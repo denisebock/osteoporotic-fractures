{
  "nbformat": 4,
  "nbformat_minor": 0,
  "metadata": {
    "colab": {
      "provenance": []
    },
    "kernelspec": {
      "name": "python3",
      "display_name": "Python 3"
    },
    "language_info": {
      "name": "python"
    }
  },
  "cells": [
    {
      "cell_type": "markdown",
      "source": [
        "# Baseline Model\n",
        "\n",
        "## Table of Contents\n",
        "1. [Model Choice](#model-choice)\n",
        "2. [Feature Selection](#feature-selection)\n",
        "3. [Implementation](#implementation)\n",
        "4. [Evaluation](#evaluation)"
      ],
      "metadata": {
        "id": "DeE8WiaonFOr"
      }
    },
    {
      "cell_type": "code",
      "execution_count": 1,
      "metadata": {
        "id": "2prUNpVOm55C"
      },
      "outputs": [],
      "source": [
        "# Import necessary libraries\n",
        "import pandas as pd\n",
        "import numpy as np\n",
        "from sklearn.model_selection import train_test_split\n",
        "from sklearn.metrics import accuracy_score, mean_squared_error"
      ]
    },
    {
      "cell_type": "markdown",
      "source": [
        "## Model Choice\n",
        "\n",
        "Logistic regression is a conventional method utilized in the field of medical science. Even for previous analyses of the SOF dataset, the logistic regression model has been consistently implemented. In addition, one benefit of the logistic regression model is that it allows us to consider and include multiple predictor variables in our analysis.\n"
        "As a result, the logistics regression seemed to be a good choice for a baseline model."
      ],
      "metadata": {
        "id": "3bxmQ6o5pEJo"
      }
    },
    {
      "cell_type": "markdown",
      "source": [
        "## Feature Selection\n",
        "\n",
        "To select features, we first did a literature review searching for strong relationships between the target variable (hip fracture) and feature variables (see Variables List). We then chose only data from time point 1 (V1) to facilitate a cross-sectional analysis with baseline data. Variable selection took place during exploratory data analysis.\n"
      ],
      "metadata": {
        "id": "sv42POa-ncko"
      }
    },
    {
      "cell_type": "markdown",
      "source": [
        "\n",
        "### Read data"
      ],
      "metadata": {
        "id": "BCe1a9Yuu2Xp"
      }
    },
    {
      "cell_type": "code",
      "source": [
        "# mount google drive if needed\n",
        "from google.colab import drive\n",
        "drive.mount('/content/drive')"
      ],
      "metadata": {
        "colab": {
          "base_uri": "https://localhost:8080/"
        },
        "id": "oP2ORHQWncQE",
        "outputId": "a122cfec-0b1a-419c-bb75-8b16bddd79b1"
      },
      "execution_count": 2,
      "outputs": [
        {
          "output_type": "stream",
          "name": "stdout",
          "text": [
            "Mounted at /content/drive\n"
          ]
        }
      ]
    },
    {
      "cell_type": "code",
      "source": [
        "# Load the data\n",
        "v1df_wide = pd.read_csv('/content/drive/MyDrive/OPENCAMP_OSTEO_PROJECT/v1df_wide.csv', sep ='\\t')\n",
        "\n",
        "print(v1df_wide.head())"
      ],
      "metadata": {
        "colab": {
          "base_uri": "https://localhost:8080/"
        },
        "id": "3EfgpA8cnh-N",
        "outputId": "c2f54de5-ca5b-416c-962b-62a5c0690ef7"
      },
      "execution_count": 3,
      "outputs": [
        {
          "output_type": "stream",
          "name": "stdout",
          "text": [
            "   Unnamed: 0      V1BMI  V1WGHT  V1HGHT  V1SHT3MS  V1AGE  V1DOCF  V1VERT  \\\n",
            "0           0  28.671137    65.2  150.80      25.0   67.0     1.0     0.0   \n",
            "1           1  28.235766    63.7  150.20      24.0   82.0     1.0     1.0   \n",
            "2           2  30.700408    70.0  151.00      26.0   73.0     0.0     0.0   \n",
            "3           3  25.205854    62.9  157.97      26.0   65.0     0.0     0.0   \n",
            "4           4  17.616528    43.7  157.50      23.0   82.0     0.0     0.0   \n",
            "\n",
            "   V1FALL  V1HIP50  ...  V1THIUSE  V1CHRTM  V1STPLGT  V1WLKSPD  V1AC2040  \\\n",
            "0     0.0      0.0  ...       0.0     10.9  0.571429  1.188119       1.0   \n",
            "1     0.0      0.0  ...       0.0     21.1  0.272727  0.338028       1.0   \n",
            "2     0.0      0.0  ...       0.0     12.6  0.521739  0.845070       0.0   \n",
            "3     0.0      0.0  ...       1.0      6.1  0.521739  1.071429       0.0   \n",
            "4     0.0      0.0  ...       0.0     11.6  0.428571  0.638298       0.0   \n",
            "\n",
            "   V1CSNORM  V1DIZZY  V1PSTHY2  V1PFX  V1HIPI  \n",
            "0  1.050893      0.0       0.0    0.0     0.0  \n",
            "1  0.880494      0.0       1.0    0.0     0.0  \n",
            "2  1.400000      1.0       0.0    0.0     0.0  \n",
            "3  3.111726      0.0       0.0    0.0     0.0  \n",
            "4  0.995238      0.0       0.0    0.0     0.0  \n",
            "\n",
            "[5 rows x 30 columns]\n"
          ]
        }
      ]
    },
    {
      "cell_type": "markdown",
      "source": [
        "### Check and adjust data types of features"
      ],
      "metadata": {
        "id": "c2_gAvR5q2D2"
      }
    },
    {
      "cell_type": "code",
      "source": [
        "# Check the data types of the DataFrame\n",
        "print(v1df_wide.dtypes)"
      ],
      "metadata": {
        "colab": {
          "base_uri": "https://localhost:8080/"
        },
        "id": "X3FtyppQq6do",
        "outputId": "d98fe69f-e370-4fe0-ee44-a3cb527cc12c"
      },
      "execution_count": 4,
      "outputs": [
        {
          "output_type": "stream",
          "name": "stdout",
          "text": [
            "Unnamed: 0      int64\n",
            "V1BMI         float64\n",
            "V1WGHT        float64\n",
            "V1HGHT        float64\n",
            "V1SHT3MS      float64\n",
            "V1AGE         float64\n",
            "V1DOCF        float64\n",
            "V1VERT        float64\n",
            "V1FALL        float64\n",
            "V1HIP50       float64\n",
            "V1AVDRWK      float64\n",
            "V1SMOKE       float64\n",
            "V1ESTRK       float64\n",
            "V1EPARK       float64\n",
            "V1EARTH       float64\n",
            "V1HYTEN       float64\n",
            "V1EDIAB       float64\n",
            "V1THYUSE      float64\n",
            "V1OESUSE      float64\n",
            "V1ANTDEP      float64\n",
            "V1THIUSE      float64\n",
            "V1CHRTM       float64\n",
            "V1STPLGT      float64\n",
            "V1WLKSPD      float64\n",
            "V1AC2040      float64\n",
            "V1CSNORM      float64\n",
            "V1DIZZY       float64\n",
            "V1PSTHY2      float64\n",
            "V1PFX         float64\n",
            "V1HIPI        float64\n",
            "dtype: object\n"
          ]
        }
      ]
    },
    {
      "cell_type": "code",
      "source": [
        "# Columns to convert to categorical\n",
        "columns_to_convert = ['V1DOCF', 'V1VERT', 'V1FALL', 'V1HIP50', 'V1SMOKE',\n",
        "                      'V1ESTRK', 'V1EPARK', 'V1EARTH', 'V1HYTEN', 'V1EDIAB',\n",
        "                      'V1THYUSE', 'V1OESUSE', 'V1ANTDEP', 'V1THIUSE', 'V1AC2040',\n",
        "                      'V1DIZZY', 'V1PSTHY2', 'V1PFX', 'V1HIPI']\n",
        "\n",
        "# Convert selected columns to categorical\n",
        "v1df_wide[columns_to_convert] = v1df_wide[columns_to_convert].astype('category')\n",
        "\n",
        "# One-hot encode categorical variables with more than 2 categories\n",
        "# columns_to_encode = ['V1SMOKE', 'V1THIUSE', 'V1OESUSE', 'V1THIUSE']\n",
        "# v1df_wide_enc = pd.get_dummies(v1df_wide, columns=columns_to_encode, drop_first=True)\n",
        "\n",
        "# Combine categories, 0 = never + 1 & 2 = ever\n",
        "columns_to_encode = ['V1SMOKE', 'V1THIUSE', 'V1OESUSE']\n",
        "  # Define function to perform the transformation\n",
        "def combine_levels(columns_to_encode):\n",
        "    return columns_to_encode.replace({2: 1})\n",
        "\n",
        "# Apply the function to each categorical variable\n",
        "for columns_to_encode in v1df_wide.columns:\n",
        "    v1df_wide[columns_to_encode] = combine_levels(v1df_wide[columns_to_encode])\n",
        "\n",
        "print(v1df_wide.dtypes)"
      ],
      "metadata": {
        "colab": {
          "base_uri": "https://localhost:8080/"
        },
        "id": "at6-m1m3uwpk",
        "outputId": "b0167abd-830a-4aef-bb2c-9bb5eb2d5389"
      },
      "execution_count": 5,
      "outputs": [
        {
          "output_type": "stream",
          "name": "stdout",
          "text": [
            "Unnamed: 0       int64\n",
            "V1BMI          float64\n",
            "V1WGHT         float64\n",
            "V1HGHT         float64\n",
            "V1SHT3MS       float64\n",
            "V1AGE          float64\n",
            "V1DOCF        category\n",
            "V1VERT        category\n",
            "V1FALL        category\n",
            "V1HIP50       category\n",
            "V1AVDRWK       float64\n",
            "V1SMOKE       category\n",
            "V1ESTRK       category\n",
            "V1EPARK       category\n",
            "V1EARTH       category\n",
            "V1HYTEN       category\n",
            "V1EDIAB       category\n",
            "V1THYUSE      category\n",
            "V1OESUSE      category\n",
            "V1ANTDEP      category\n",
            "V1THIUSE      category\n",
            "V1CHRTM        float64\n",
            "V1STPLGT       float64\n",
            "V1WLKSPD       float64\n",
            "V1AC2040      category\n",
            "V1CSNORM       float64\n",
            "V1DIZZY       category\n",
            "V1PSTHY2      category\n",
            "V1PFX         category\n",
            "V1HIPI        category\n",
            "dtype: object\n"
          ]
        }
      ]
    },
    {
      "cell_type": "markdown",
      "source": [
        "### Split into train and test set"
      ],
      "metadata": {
        "id": "1X6DlgiIu9QH"
      }
    },
    {
      "cell_type": "code",
      "source": [
        "# look at dataset\n",
        "v1df_wide.head()"
      ],
      "metadata": {
        "colab": {
          "base_uri": "https://localhost:8080/",
          "height": 273
        },
        "id": "cZdV4e3vvAHZ",
        "outputId": "1d0232ba-50f0-45e6-9494-18bc4d291788"
      },
      "execution_count": 6,
      "outputs": [
        {
          "output_type": "execute_result",
          "data": {
            "text/plain": [
              "   Unnamed: 0      V1BMI  V1WGHT  V1HGHT  V1SHT3MS  V1AGE V1DOCF V1VERT  \\\n",
              "0           0  28.671137    65.2  150.80      25.0   67.0    1.0    0.0   \n",
              "1           1  28.235766    63.7  150.20      24.0   82.0    1.0    1.0   \n",
              "2           1  30.700408    70.0  151.00      26.0   73.0    0.0    0.0   \n",
              "3           3  25.205854    62.9  157.97      26.0   65.0    0.0    0.0   \n",
              "4           4  17.616528    43.7  157.50      23.0   82.0    0.0    0.0   \n",
              "\n",
              "  V1FALL V1HIP50  ...  V1THIUSE V1CHRTM  V1STPLGT  V1WLKSPD V1AC2040  \\\n",
              "0    0.0     0.0  ...       0.0    10.9  0.571429  1.188119      1.0   \n",
              "1    0.0     0.0  ...       0.0    21.1  0.272727  0.338028      1.0   \n",
              "2    0.0     0.0  ...       0.0    12.6  0.521739  0.845070      0.0   \n",
              "3    0.0     0.0  ...       1.0     6.1  0.521739  1.071429      0.0   \n",
              "4    0.0     0.0  ...       0.0    11.6  0.428571  0.638298      0.0   \n",
              "\n",
              "   V1CSNORM V1DIZZY V1PSTHY2 V1PFX V1HIPI  \n",
              "0  1.050893     0.0      0.0   0.0    0.0  \n",
              "1  0.880494     0.0      1.0   0.0    0.0  \n",
              "2  1.400000     1.0      0.0   0.0    0.0  \n",
              "3  3.111726     0.0      0.0   0.0    0.0  \n",
              "4  0.995238     0.0      0.0   0.0    0.0  \n",
              "\n",
              "[5 rows x 30 columns]"
            ],
            "text/html": [
              "\n",
              "  <div id=\"df-5e6e21c1-08ab-4665-9e7a-9e9813898cea\" class=\"colab-df-container\">\n",
              "    <div>\n",
              "<style scoped>\n",
              "    .dataframe tbody tr th:only-of-type {\n",
              "        vertical-align: middle;\n",
              "    }\n",
              "\n",
              "    .dataframe tbody tr th {\n",
              "        vertical-align: top;\n",
              "    }\n",
              "\n",
              "    .dataframe thead th {\n",
              "        text-align: right;\n",
              "    }\n",
              "</style>\n",
              "<table border=\"1\" class=\"dataframe\">\n",
              "  <thead>\n",
              "    <tr style=\"text-align: right;\">\n",
              "      <th></th>\n",
              "      <th>Unnamed: 0</th>\n",
              "      <th>V1BMI</th>\n",
              "      <th>V1WGHT</th>\n",
              "      <th>V1HGHT</th>\n",
              "      <th>V1SHT3MS</th>\n",
              "      <th>V1AGE</th>\n",
              "      <th>V1DOCF</th>\n",
              "      <th>V1VERT</th>\n",
              "      <th>V1FALL</th>\n",
              "      <th>V1HIP50</th>\n",
              "      <th>...</th>\n",
              "      <th>V1THIUSE</th>\n",
              "      <th>V1CHRTM</th>\n",
              "      <th>V1STPLGT</th>\n",
              "      <th>V1WLKSPD</th>\n",
              "      <th>V1AC2040</th>\n",
              "      <th>V1CSNORM</th>\n",
              "      <th>V1DIZZY</th>\n",
              "      <th>V1PSTHY2</th>\n",
              "      <th>V1PFX</th>\n",
              "      <th>V1HIPI</th>\n",
              "    </tr>\n",
              "  </thead>\n",
              "  <tbody>\n",
              "    <tr>\n",
              "      <th>0</th>\n",
              "      <td>0</td>\n",
              "      <td>28.671137</td>\n",
              "      <td>65.2</td>\n",
              "      <td>150.80</td>\n",
              "      <td>25.0</td>\n",
              "      <td>67.0</td>\n",
              "      <td>1.0</td>\n",
              "      <td>0.0</td>\n",
              "      <td>0.0</td>\n",
              "      <td>0.0</td>\n",
              "      <td>...</td>\n",
              "      <td>0.0</td>\n",
              "      <td>10.9</td>\n",
              "      <td>0.571429</td>\n",
              "      <td>1.188119</td>\n",
              "      <td>1.0</td>\n",
              "      <td>1.050893</td>\n",
              "      <td>0.0</td>\n",
              "      <td>0.0</td>\n",
              "      <td>0.0</td>\n",
              "      <td>0.0</td>\n",
              "    </tr>\n",
              "    <tr>\n",
              "      <th>1</th>\n",
              "      <td>1</td>\n",
              "      <td>28.235766</td>\n",
              "      <td>63.7</td>\n",
              "      <td>150.20</td>\n",
              "      <td>24.0</td>\n",
              "      <td>82.0</td>\n",
              "      <td>1.0</td>\n",
              "      <td>1.0</td>\n",
              "      <td>0.0</td>\n",
              "      <td>0.0</td>\n",
              "      <td>...</td>\n",
              "      <td>0.0</td>\n",
              "      <td>21.1</td>\n",
              "      <td>0.272727</td>\n",
              "      <td>0.338028</td>\n",
              "      <td>1.0</td>\n",
              "      <td>0.880494</td>\n",
              "      <td>0.0</td>\n",
              "      <td>1.0</td>\n",
              "      <td>0.0</td>\n",
              "      <td>0.0</td>\n",
              "    </tr>\n",
              "    <tr>\n",
              "      <th>2</th>\n",
              "      <td>1</td>\n",
              "      <td>30.700408</td>\n",
              "      <td>70.0</td>\n",
              "      <td>151.00</td>\n",
              "      <td>26.0</td>\n",
              "      <td>73.0</td>\n",
              "      <td>0.0</td>\n",
              "      <td>0.0</td>\n",
              "      <td>0.0</td>\n",
              "      <td>0.0</td>\n",
              "      <td>...</td>\n",
              "      <td>0.0</td>\n",
              "      <td>12.6</td>\n",
              "      <td>0.521739</td>\n",
              "      <td>0.845070</td>\n",
              "      <td>0.0</td>\n",
              "      <td>1.400000</td>\n",
              "      <td>1.0</td>\n",
              "      <td>0.0</td>\n",
              "      <td>0.0</td>\n",
              "      <td>0.0</td>\n",
              "    </tr>\n",
              "    <tr>\n",
              "      <th>3</th>\n",
              "      <td>3</td>\n",
              "      <td>25.205854</td>\n",
              "      <td>62.9</td>\n",
              "      <td>157.97</td>\n",
              "      <td>26.0</td>\n",
              "      <td>65.0</td>\n",
              "      <td>0.0</td>\n",
              "      <td>0.0</td>\n",
              "      <td>0.0</td>\n",
              "      <td>0.0</td>\n",
              "      <td>...</td>\n",
              "      <td>1.0</td>\n",
              "      <td>6.1</td>\n",
              "      <td>0.521739</td>\n",
              "      <td>1.071429</td>\n",
              "      <td>0.0</td>\n",
              "      <td>3.111726</td>\n",
              "      <td>0.0</td>\n",
              "      <td>0.0</td>\n",
              "      <td>0.0</td>\n",
              "      <td>0.0</td>\n",
              "    </tr>\n",
              "    <tr>\n",
              "      <th>4</th>\n",
              "      <td>4</td>\n",
              "      <td>17.616528</td>\n",
              "      <td>43.7</td>\n",
              "      <td>157.50</td>\n",
              "      <td>23.0</td>\n",
              "      <td>82.0</td>\n",
              "      <td>0.0</td>\n",
              "      <td>0.0</td>\n",
              "      <td>0.0</td>\n",
              "      <td>0.0</td>\n",
              "      <td>...</td>\n",
              "      <td>0.0</td>\n",
              "      <td>11.6</td>\n",
              "      <td>0.428571</td>\n",
              "      <td>0.638298</td>\n",
              "      <td>0.0</td>\n",
              "      <td>0.995238</td>\n",
              "      <td>0.0</td>\n",
              "      <td>0.0</td>\n",
              "      <td>0.0</td>\n",
              "      <td>0.0</td>\n",
              "    </tr>\n",
              "  </tbody>\n",
              "</table>\n",
              "<p>5 rows × 30 columns</p>\n",
              "</div>\n",
              "    <div class=\"colab-df-buttons\">\n",
              "\n",
              "  <div class=\"colab-df-container\">\n",
              "    <button class=\"colab-df-convert\" onclick=\"convertToInteractive('df-5e6e21c1-08ab-4665-9e7a-9e9813898cea')\"\n",
              "            title=\"Convert this dataframe to an interactive table.\"\n",
              "            style=\"display:none;\">\n",
              "\n",
              "  <svg xmlns=\"http://www.w3.org/2000/svg\" height=\"24px\" viewBox=\"0 -960 960 960\">\n",
              "    <path d=\"M120-120v-720h720v720H120Zm60-500h600v-160H180v160Zm220 220h160v-160H400v160Zm0 220h160v-160H400v160ZM180-400h160v-160H180v160Zm440 0h160v-160H620v160ZM180-180h160v-160H180v160Zm440 0h160v-160H620v160Z\"/>\n",
              "  </svg>\n",
              "    </button>\n",
              "\n",
              "  <style>\n",
              "    .colab-df-container {\n",
              "      display:flex;\n",
              "      gap: 12px;\n",
              "    }\n",
              "\n",
              "    .colab-df-convert {\n",
              "      background-color: #E8F0FE;\n",
              "      border: none;\n",
              "      border-radius: 50%;\n",
              "      cursor: pointer;\n",
              "      display: none;\n",
              "      fill: #1967D2;\n",
              "      height: 32px;\n",
              "      padding: 0 0 0 0;\n",
              "      width: 32px;\n",
              "    }\n",
              "\n",
              "    .colab-df-convert:hover {\n",
              "      background-color: #E2EBFA;\n",
              "      box-shadow: 0px 1px 2px rgba(60, 64, 67, 0.3), 0px 1px 3px 1px rgba(60, 64, 67, 0.15);\n",
              "      fill: #174EA6;\n",
              "    }\n",
              "\n",
              "    .colab-df-buttons div {\n",
              "      margin-bottom: 4px;\n",
              "    }\n",
              "\n",
              "    [theme=dark] .colab-df-convert {\n",
              "      background-color: #3B4455;\n",
              "      fill: #D2E3FC;\n",
              "    }\n",
              "\n",
              "    [theme=dark] .colab-df-convert:hover {\n",
              "      background-color: #434B5C;\n",
              "      box-shadow: 0px 1px 3px 1px rgba(0, 0, 0, 0.15);\n",
              "      filter: drop-shadow(0px 1px 2px rgba(0, 0, 0, 0.3));\n",
              "      fill: #FFFFFF;\n",
              "    }\n",
              "  </style>\n",
              "\n",
              "    <script>\n",
              "      const buttonEl =\n",
              "        document.querySelector('#df-5e6e21c1-08ab-4665-9e7a-9e9813898cea button.colab-df-convert');\n",
              "      buttonEl.style.display =\n",
              "        google.colab.kernel.accessAllowed ? 'block' : 'none';\n",
              "\n",
              "      async function convertToInteractive(key) {\n",
              "        const element = document.querySelector('#df-5e6e21c1-08ab-4665-9e7a-9e9813898cea');\n",
              "        const dataTable =\n",
              "          await google.colab.kernel.invokeFunction('convertToInteractive',\n",
              "                                                    [key], {});\n",
              "        if (!dataTable) return;\n",
              "\n",
              "        const docLinkHtml = 'Like what you see? Visit the ' +\n",
              "          '<a target=\"_blank\" href=https://colab.research.google.com/notebooks/data_table.ipynb>data table notebook</a>'\n",
              "          + ' to learn more about interactive tables.';\n",
              "        element.innerHTML = '';\n",
              "        dataTable['output_type'] = 'display_data';\n",
              "        await google.colab.output.renderOutput(dataTable, element);\n",
              "        const docLink = document.createElement('div');\n",
              "        docLink.innerHTML = docLinkHtml;\n",
              "        element.appendChild(docLink);\n",
              "      }\n",
              "    </script>\n",
              "  </div>\n",
              "\n",
              "\n",
              "<div id=\"df-63521254-3178-456a-8c77-f5707f543454\">\n",
              "  <button class=\"colab-df-quickchart\" onclick=\"quickchart('df-63521254-3178-456a-8c77-f5707f543454')\"\n",
              "            title=\"Suggest charts\"\n",
              "            style=\"display:none;\">\n",
              "\n",
              "<svg xmlns=\"http://www.w3.org/2000/svg\" height=\"24px\"viewBox=\"0 0 24 24\"\n",
              "     width=\"24px\">\n",
              "    <g>\n",
              "        <path d=\"M19 3H5c-1.1 0-2 .9-2 2v14c0 1.1.9 2 2 2h14c1.1 0 2-.9 2-2V5c0-1.1-.9-2-2-2zM9 17H7v-7h2v7zm4 0h-2V7h2v10zm4 0h-2v-4h2v4z\"/>\n",
              "    </g>\n",
              "</svg>\n",
              "  </button>\n",
              "\n",
              "<style>\n",
              "  .colab-df-quickchart {\n",
              "      --bg-color: #E8F0FE;\n",
              "      --fill-color: #1967D2;\n",
              "      --hover-bg-color: #E2EBFA;\n",
              "      --hover-fill-color: #174EA6;\n",
              "      --disabled-fill-color: #AAA;\n",
              "      --disabled-bg-color: #DDD;\n",
              "  }\n",
              "\n",
              "  [theme=dark] .colab-df-quickchart {\n",
              "      --bg-color: #3B4455;\n",
              "      --fill-color: #D2E3FC;\n",
              "      --hover-bg-color: #434B5C;\n",
              "      --hover-fill-color: #FFFFFF;\n",
              "      --disabled-bg-color: #3B4455;\n",
              "      --disabled-fill-color: #666;\n",
              "  }\n",
              "\n",
              "  .colab-df-quickchart {\n",
              "    background-color: var(--bg-color);\n",
              "    border: none;\n",
              "    border-radius: 50%;\n",
              "    cursor: pointer;\n",
              "    display: none;\n",
              "    fill: var(--fill-color);\n",
              "    height: 32px;\n",
              "    padding: 0;\n",
              "    width: 32px;\n",
              "  }\n",
              "\n",
              "  .colab-df-quickchart:hover {\n",
              "    background-color: var(--hover-bg-color);\n",
              "    box-shadow: 0 1px 2px rgba(60, 64, 67, 0.3), 0 1px 3px 1px rgba(60, 64, 67, 0.15);\n",
              "    fill: var(--button-hover-fill-color);\n",
              "  }\n",
              "\n",
              "  .colab-df-quickchart-complete:disabled,\n",
              "  .colab-df-quickchart-complete:disabled:hover {\n",
              "    background-color: var(--disabled-bg-color);\n",
              "    fill: var(--disabled-fill-color);\n",
              "    box-shadow: none;\n",
              "  }\n",
              "\n",
              "  .colab-df-spinner {\n",
              "    border: 2px solid var(--fill-color);\n",
              "    border-color: transparent;\n",
              "    border-bottom-color: var(--fill-color);\n",
              "    animation:\n",
              "      spin 1s steps(1) infinite;\n",
              "  }\n",
              "\n",
              "  @keyframes spin {\n",
              "    0% {\n",
              "      border-color: transparent;\n",
              "      border-bottom-color: var(--fill-color);\n",
              "      border-left-color: var(--fill-color);\n",
              "    }\n",
              "    20% {\n",
              "      border-color: transparent;\n",
              "      border-left-color: var(--fill-color);\n",
              "      border-top-color: var(--fill-color);\n",
              "    }\n",
              "    30% {\n",
              "      border-color: transparent;\n",
              "      border-left-color: var(--fill-color);\n",
              "      border-top-color: var(--fill-color);\n",
              "      border-right-color: var(--fill-color);\n",
              "    }\n",
              "    40% {\n",
              "      border-color: transparent;\n",
              "      border-right-color: var(--fill-color);\n",
              "      border-top-color: var(--fill-color);\n",
              "    }\n",
              "    60% {\n",
              "      border-color: transparent;\n",
              "      border-right-color: var(--fill-color);\n",
              "    }\n",
              "    80% {\n",
              "      border-color: transparent;\n",
              "      border-right-color: var(--fill-color);\n",
              "      border-bottom-color: var(--fill-color);\n",
              "    }\n",
              "    90% {\n",
              "      border-color: transparent;\n",
              "      border-bottom-color: var(--fill-color);\n",
              "    }\n",
              "  }\n",
              "</style>\n",
              "\n",
              "  <script>\n",
              "    async function quickchart(key) {\n",
              "      const quickchartButtonEl =\n",
              "        document.querySelector('#' + key + ' button');\n",
              "      quickchartButtonEl.disabled = true;  // To prevent multiple clicks.\n",
              "      quickchartButtonEl.classList.add('colab-df-spinner');\n",
              "      try {\n",
              "        const charts = await google.colab.kernel.invokeFunction(\n",
              "            'suggestCharts', [key], {});\n",
              "      } catch (error) {\n",
              "        console.error('Error during call to suggestCharts:', error);\n",
              "      }\n",
              "      quickchartButtonEl.classList.remove('colab-df-spinner');\n",
              "      quickchartButtonEl.classList.add('colab-df-quickchart-complete');\n",
              "    }\n",
              "    (() => {\n",
              "      let quickchartButtonEl =\n",
              "        document.querySelector('#df-63521254-3178-456a-8c77-f5707f543454 button');\n",
              "      quickchartButtonEl.style.display =\n",
              "        google.colab.kernel.accessAllowed ? 'block' : 'none';\n",
              "    })();\n",
              "  </script>\n",
              "</div>\n",
              "    </div>\n",
              "  </div>\n"
            ],
            "application/vnd.google.colaboratory.intrinsic+json": {
              "type": "dataframe",
              "variable_name": "v1df_wide"
            }
          },
          "metadata": {},
          "execution_count": 6
        }
      ]
    },
    {
      "cell_type": "code",
      "source": [
        "#delete unnamed column\n",
        "v1df_wide.drop(['Unnamed: 0'], axis=1, inplace=True)"
      ],
      "metadata": {
        "id": "KOSamgJUvE25"
      },
      "execution_count": 7,
      "outputs": []
    },
    {
      "cell_type": "code",
      "source": [
        "# split dataset\n",
        "X = v1df_wide.loc[:, v1df_wide.columns != \"V1HIPI\"]\n",
        "y = v1df_wide[\"V1HIPI\"]\n",
        "\n",
        "X_train, X_test, y_train, y_test = train_test_split(X, y, test_size=0.2, random_state=21)"
      ],
      "metadata": {
        "id": "3T1MPmWZvGuW"
      },
      "execution_count": 8,
      "outputs": []
    },
    {
      "cell_type": "markdown",
      "source": [
        "### Undersampling majority class"
      ],
      "metadata": {
        "id": "6B_vQ2SUvT4F"
      }
    },
    {
      "cell_type": "code",
      "source": [
        "#Undersampling majority class\n",
        "from imblearn.under_sampling import NearMiss\n",
        "from sklearn.model_selection import train_test_split\n",
        "\n",
        "# Initialize NearMiss\n",
        "nm = NearMiss()\n",
        "\n",
        "# Undersample the majority class\n",
        "X_train_undersampled, y_train_undersampled = nm.fit_resample(X_train, y_train)\n",
        "\n",
        "#Original vs. Resampled\n",
        "print('Original Hip Fracture Distribution:\\n', y_train.value_counts())\n",
        "print('Resampled Hip Fracture Distribution:\\n', y_train_undersampled.value_counts())"
      ],
      "metadata": {
        "colab": {
          "base_uri": "https://localhost:8080/"
        },
        "id": "O7Q1kOVTvXDE",
        "outputId": "b9607a98-60c5-4be6-e859-30079b292838"
      },
      "execution_count": 9,
      "outputs": [
        {
          "output_type": "stream",
          "name": "stdout",
          "text": [
            "Original Hip Fracture Distribution:\n",
            " 0.0    6600\n",
            "1.0    1132\n",
            "Name: V1HIPI, dtype: int64\n",
            "Resampled Hip Fracture Distribution:\n",
            " 0.0    1132\n",
            "1.0    1132\n",
            "Name: V1HIPI, dtype: int64\n"
          ]
        }
      ]
    },
    {
      "cell_type": "code",
      "source": [
        "# remove height and weight due to BMI variable\n",
        "drop = ['V1WGHT', 'V1HGHT']\n",
        "X_train_undersampled = X_train_undersampled.drop(drop, axis =1)\n",
        "X_train = X_train.drop(drop, axis =1)\n",
        "X_test = X_test.drop(drop, axis =1)"
      ],
      "metadata": {
        "id": "oDbDxFRfwHZk"
      },
      "execution_count": 10,
      "outputs": []
    },
    {
      "cell_type": "markdown",
      "source": [
        "## Implementation"
      ],
      "metadata": {
        "id": "bPDSTwAxvd0Q"
      }
    },
    {
      "cell_type": "markdown",
      "source": [
        "### Baseline Model 1: Unsampled"
      ],
      "metadata": {
        "id": "cWTuI-kHvhmN"
      }
    },
    {
      "cell_type": "code",
      "source": [
        "#baseline model - unsampled LR\n",
        "from sklearn.linear_model import LogisticRegression\n",
        "\n",
        "# instantiate the model (using the default parameters)\n",
        "logreg = LogisticRegression(random_state=16, max_iter = 5000)\n",
        "\n",
        "# fit the model with full data\n",
        "logreg.fit(X_train, y_train)"
      ],
      "metadata": {
        "colab": {
          "base_uri": "https://localhost:8080/",
          "height": 74
        },
        "id": "NqzY2t57vffu",
        "outputId": "8fa8cd06-4a5d-437f-c22e-4e01e1f45cc6"
      },
      "execution_count": 11,
      "outputs": [
        {
          "output_type": "execute_result",
          "data": {
            "text/plain": [
              "LogisticRegression(max_iter=5000, random_state=16)"
            ],
            "text/html": [
              "<style>#sk-container-id-1 {color: black;background-color: white;}#sk-container-id-1 pre{padding: 0;}#sk-container-id-1 div.sk-toggleable {background-color: white;}#sk-container-id-1 label.sk-toggleable__label {cursor: pointer;display: block;width: 100%;margin-bottom: 0;padding: 0.3em;box-sizing: border-box;text-align: center;}#sk-container-id-1 label.sk-toggleable__label-arrow:before {content: \"▸\";float: left;margin-right: 0.25em;color: #696969;}#sk-container-id-1 label.sk-toggleable__label-arrow:hover:before {color: black;}#sk-container-id-1 div.sk-estimator:hover label.sk-toggleable__label-arrow:before {color: black;}#sk-container-id-1 div.sk-toggleable__content {max-height: 0;max-width: 0;overflow: hidden;text-align: left;background-color: #f0f8ff;}#sk-container-id-1 div.sk-toggleable__content pre {margin: 0.2em;color: black;border-radius: 0.25em;background-color: #f0f8ff;}#sk-container-id-1 input.sk-toggleable__control:checked~div.sk-toggleable__content {max-height: 200px;max-width: 100%;overflow: auto;}#sk-container-id-1 input.sk-toggleable__control:checked~label.sk-toggleable__label-arrow:before {content: \"▾\";}#sk-container-id-1 div.sk-estimator input.sk-toggleable__control:checked~label.sk-toggleable__label {background-color: #d4ebff;}#sk-container-id-1 div.sk-label input.sk-toggleable__control:checked~label.sk-toggleable__label {background-color: #d4ebff;}#sk-container-id-1 input.sk-hidden--visually {border: 0;clip: rect(1px 1px 1px 1px);clip: rect(1px, 1px, 1px, 1px);height: 1px;margin: -1px;overflow: hidden;padding: 0;position: absolute;width: 1px;}#sk-container-id-1 div.sk-estimator {font-family: monospace;background-color: #f0f8ff;border: 1px dotted black;border-radius: 0.25em;box-sizing: border-box;margin-bottom: 0.5em;}#sk-container-id-1 div.sk-estimator:hover {background-color: #d4ebff;}#sk-container-id-1 div.sk-parallel-item::after {content: \"\";width: 100%;border-bottom: 1px solid gray;flex-grow: 1;}#sk-container-id-1 div.sk-label:hover label.sk-toggleable__label {background-color: #d4ebff;}#sk-container-id-1 div.sk-serial::before {content: \"\";position: absolute;border-left: 1px solid gray;box-sizing: border-box;top: 0;bottom: 0;left: 50%;z-index: 0;}#sk-container-id-1 div.sk-serial {display: flex;flex-direction: column;align-items: center;background-color: white;padding-right: 0.2em;padding-left: 0.2em;position: relative;}#sk-container-id-1 div.sk-item {position: relative;z-index: 1;}#sk-container-id-1 div.sk-parallel {display: flex;align-items: stretch;justify-content: center;background-color: white;position: relative;}#sk-container-id-1 div.sk-item::before, #sk-container-id-1 div.sk-parallel-item::before {content: \"\";position: absolute;border-left: 1px solid gray;box-sizing: border-box;top: 0;bottom: 0;left: 50%;z-index: -1;}#sk-container-id-1 div.sk-parallel-item {display: flex;flex-direction: column;z-index: 1;position: relative;background-color: white;}#sk-container-id-1 div.sk-parallel-item:first-child::after {align-self: flex-end;width: 50%;}#sk-container-id-1 div.sk-parallel-item:last-child::after {align-self: flex-start;width: 50%;}#sk-container-id-1 div.sk-parallel-item:only-child::after {width: 0;}#sk-container-id-1 div.sk-dashed-wrapped {border: 1px dashed gray;margin: 0 0.4em 0.5em 0.4em;box-sizing: border-box;padding-bottom: 0.4em;background-color: white;}#sk-container-id-1 div.sk-label label {font-family: monospace;font-weight: bold;display: inline-block;line-height: 1.2em;}#sk-container-id-1 div.sk-label-container {text-align: center;}#sk-container-id-1 div.sk-container {/* jupyter's `normalize.less` sets `[hidden] { display: none; }` but bootstrap.min.css set `[hidden] { display: none !important; }` so we also need the `!important` here to be able to override the default hidden behavior on the sphinx rendered scikit-learn.org. See: https://github.com/scikit-learn/scikit-learn/issues/21755 */display: inline-block !important;position: relative;}#sk-container-id-1 div.sk-text-repr-fallback {display: none;}</style><div id=\"sk-container-id-1\" class=\"sk-top-container\"><div class=\"sk-text-repr-fallback\"><pre>LogisticRegression(max_iter=5000, random_state=16)</pre><b>In a Jupyter environment, please rerun this cell to show the HTML representation or trust the notebook. <br />On GitHub, the HTML representation is unable to render, please try loading this page with nbviewer.org.</b></div><div class=\"sk-container\" hidden><div class=\"sk-item\"><div class=\"sk-estimator sk-toggleable\"><input class=\"sk-toggleable__control sk-hidden--visually\" id=\"sk-estimator-id-1\" type=\"checkbox\" checked><label for=\"sk-estimator-id-1\" class=\"sk-toggleable__label sk-toggleable__label-arrow\">LogisticRegression</label><div class=\"sk-toggleable__content\"><pre>LogisticRegression(max_iter=5000, random_state=16)</pre></div></div></div></div></div>"
            ]
          },
          "metadata": {},
          "execution_count": 11
        }
      ]
    },
    {
      "cell_type": "markdown",
      "source": [
        "### Baseline Model 2: Undersampled"
      ],
      "metadata": {
        "id": "Y6osS9ftwe5K"
      }
    },
    {
      "cell_type": "code",
      "source": [
        "#baseline model - undersampled LR\n",
        "from sklearn.linear_model import LogisticRegression\n",
        "\n",
        "# instantiate the model (using the default parameters)\n",
        "logreg_und = LogisticRegression(random_state=16, max_iter = 5000)\n",
        "\n",
        "# fit the model with undersampled data\n",
        "logreg_und.fit(X_train_undersampled, y_train_undersampled)"
      ],
      "metadata": {
        "colab": {
          "base_uri": "https://localhost:8080/",
          "height": 74
        },
        "id": "nZAOgmJowTHJ",
        "outputId": "31ec1c1b-9452-4693-8245-49d4179ea3dd"
      },
      "execution_count": 37,
      "outputs": [
        {
          "output_type": "execute_result",
          "data": {
            "text/plain": [
              "LogisticRegression(max_iter=5000, random_state=16)"
            ],
            "text/html": [
              "<style>#sk-container-id-3 {color: black;background-color: white;}#sk-container-id-3 pre{padding: 0;}#sk-container-id-3 div.sk-toggleable {background-color: white;}#sk-container-id-3 label.sk-toggleable__label {cursor: pointer;display: block;width: 100%;margin-bottom: 0;padding: 0.3em;box-sizing: border-box;text-align: center;}#sk-container-id-3 label.sk-toggleable__label-arrow:before {content: \"▸\";float: left;margin-right: 0.25em;color: #696969;}#sk-container-id-3 label.sk-toggleable__label-arrow:hover:before {color: black;}#sk-container-id-3 div.sk-estimator:hover label.sk-toggleable__label-arrow:before {color: black;}#sk-container-id-3 div.sk-toggleable__content {max-height: 0;max-width: 0;overflow: hidden;text-align: left;background-color: #f0f8ff;}#sk-container-id-3 div.sk-toggleable__content pre {margin: 0.2em;color: black;border-radius: 0.25em;background-color: #f0f8ff;}#sk-container-id-3 input.sk-toggleable__control:checked~div.sk-toggleable__content {max-height: 200px;max-width: 100%;overflow: auto;}#sk-container-id-3 input.sk-toggleable__control:checked~label.sk-toggleable__label-arrow:before {content: \"▾\";}#sk-container-id-3 div.sk-estimator input.sk-toggleable__control:checked~label.sk-toggleable__label {background-color: #d4ebff;}#sk-container-id-3 div.sk-label input.sk-toggleable__control:checked~label.sk-toggleable__label {background-color: #d4ebff;}#sk-container-id-3 input.sk-hidden--visually {border: 0;clip: rect(1px 1px 1px 1px);clip: rect(1px, 1px, 1px, 1px);height: 1px;margin: -1px;overflow: hidden;padding: 0;position: absolute;width: 1px;}#sk-container-id-3 div.sk-estimator {font-family: monospace;background-color: #f0f8ff;border: 1px dotted black;border-radius: 0.25em;box-sizing: border-box;margin-bottom: 0.5em;}#sk-container-id-3 div.sk-estimator:hover {background-color: #d4ebff;}#sk-container-id-3 div.sk-parallel-item::after {content: \"\";width: 100%;border-bottom: 1px solid gray;flex-grow: 1;}#sk-container-id-3 div.sk-label:hover label.sk-toggleable__label {background-color: #d4ebff;}#sk-container-id-3 div.sk-serial::before {content: \"\";position: absolute;border-left: 1px solid gray;box-sizing: border-box;top: 0;bottom: 0;left: 50%;z-index: 0;}#sk-container-id-3 div.sk-serial {display: flex;flex-direction: column;align-items: center;background-color: white;padding-right: 0.2em;padding-left: 0.2em;position: relative;}#sk-container-id-3 div.sk-item {position: relative;z-index: 1;}#sk-container-id-3 div.sk-parallel {display: flex;align-items: stretch;justify-content: center;background-color: white;position: relative;}#sk-container-id-3 div.sk-item::before, #sk-container-id-3 div.sk-parallel-item::before {content: \"\";position: absolute;border-left: 1px solid gray;box-sizing: border-box;top: 0;bottom: 0;left: 50%;z-index: -1;}#sk-container-id-3 div.sk-parallel-item {display: flex;flex-direction: column;z-index: 1;position: relative;background-color: white;}#sk-container-id-3 div.sk-parallel-item:first-child::after {align-self: flex-end;width: 50%;}#sk-container-id-3 div.sk-parallel-item:last-child::after {align-self: flex-start;width: 50%;}#sk-container-id-3 div.sk-parallel-item:only-child::after {width: 0;}#sk-container-id-3 div.sk-dashed-wrapped {border: 1px dashed gray;margin: 0 0.4em 0.5em 0.4em;box-sizing: border-box;padding-bottom: 0.4em;background-color: white;}#sk-container-id-3 div.sk-label label {font-family: monospace;font-weight: bold;display: inline-block;line-height: 1.2em;}#sk-container-id-3 div.sk-label-container {text-align: center;}#sk-container-id-3 div.sk-container {/* jupyter's `normalize.less` sets `[hidden] { display: none; }` but bootstrap.min.css set `[hidden] { display: none !important; }` so we also need the `!important` here to be able to override the default hidden behavior on the sphinx rendered scikit-learn.org. See: https://github.com/scikit-learn/scikit-learn/issues/21755 */display: inline-block !important;position: relative;}#sk-container-id-3 div.sk-text-repr-fallback {display: none;}</style><div id=\"sk-container-id-3\" class=\"sk-top-container\"><div class=\"sk-text-repr-fallback\"><pre>LogisticRegression(max_iter=5000, random_state=16)</pre><b>In a Jupyter environment, please rerun this cell to show the HTML representation or trust the notebook. <br />On GitHub, the HTML representation is unable to render, please try loading this page with nbviewer.org.</b></div><div class=\"sk-container\" hidden><div class=\"sk-item\"><div class=\"sk-estimator sk-toggleable\"><input class=\"sk-toggleable__control sk-hidden--visually\" id=\"sk-estimator-id-3\" type=\"checkbox\" checked><label for=\"sk-estimator-id-3\" class=\"sk-toggleable__label sk-toggleable__label-arrow\">LogisticRegression</label><div class=\"sk-toggleable__content\"><pre>LogisticRegression(max_iter=5000, random_state=16)</pre></div></div></div></div></div>"
            ]
          },
          "metadata": {},
          "execution_count": 37
        }
      ]
    },
    {
      "cell_type": "markdown",
      "source": [
        "## Evaluation"
      ],
      "metadata": {
        "id": "Ua7f4TYpwvn7"
      }
    },
    {
      "cell_type": "markdown",
      "source": [
        "To evaluate our baseline models, we use three metrics:  \n",
        "1. **Accuracy**\n",
        "2. **Sensitivity** is the proportion of actual positive cases that are correctly identified by the model (true positives)\n",
        "3. **Specificity** is the proportion of actual negative cases that are correctly identified by the model (true negatives)\n",
        "\n",
        "Sensitivity and specificity are important metrics in medical science."
      ],
      "metadata": {
        "id": "qnbfU3ONwy24"
      }
    },
    {
      "cell_type": "markdown",
      "source": [
        "### Baseline Model 1"
      ],
      "metadata": {
        "id": "Cra5hLAEz9o5"
      }
    },
    {
      "cell_type": "code",
      "source": [
        "# baseline model 1: unsampled\n",
        "y_pred = logreg.predict(X_test)\n",
        "\n",
        "# Evaluate accuracy\n",
        "base_accuracy = accuracy_score(y_test, y_pred)\n",
        "print(f\"Baseline Model 1 Accuracy: {base_accuracy}\")"
      ],
      "metadata": {
        "colab": {
          "base_uri": "https://localhost:8080/"
        },
        "id": "yJXq5u6AyzCu",
        "outputId": "4ee2aeb6-1af5-4630-e73c-af823763df35"
      },
      "execution_count": 38,
      "outputs": [
        {
          "output_type": "stream",
          "name": "stdout",
          "text": [
            "Baseline Model 1 Accuracy: 0.8521199586349535\n"
          ]
        }
      ]
    },
    {
      "cell_type": "code",
      "source": [
        "# confusion matrix - baseline model 1\n",
        "# import the metrics class\n",
        "from sklearn import metrics\n",
        "cnf_matrix = metrics.confusion_matrix(y_test, y_pred)"
      ],
      "metadata": {
        "id": "HfFg6UwTyluH"
      },
      "execution_count": 39,
      "outputs": []
    },
    {
      "cell_type": "code",
      "source": [
        "# create heatmap\n",
        "import matplotlib.pyplot as plt\n",
        "import seaborn as sns\n",
        "sns.heatmap(pd.DataFrame(cnf_matrix), annot=True, cmap=\"YlGnBu\" ,fmt='g')\n",
        "plt.tight_layout()\n",
        "plt.title('Confusion matrix - Baseline Model 1', y=1.1)\n",
        "plt.ylabel('Actual label')\n",
        "plt.xlabel('Predicted label')\n",
        "plt.show()"
      ],
      "metadata": {
        "colab": {
          "base_uri": "https://localhost:8080/",
          "height": 571
        },
        "id": "8dFmJCYl7BWW",
        "outputId": "8729ebc7-ba5f-4afc-ba31-839051b332a6"
      },
      "execution_count": 40,
      "outputs": [
        {
          "output_type": "display_data",
          "data": {
            "text/plain": [
              "<Figure size 640x480 with 2 Axes>"
            ],
            "image/png": "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\n"
          },
          "metadata": {}
        }
      ]
    },
    {
      "cell_type": "code",
      "source": [
        "specificity1 = cnf_matrix[0,0]/(cnf_matrix[0,0]+cnf_matrix[0,1])\n",
        "print('Baseline Model 1 Specificity : ', specificity1 )\n",
        "\n",
        "sensitivity1 = cnf_matrix[1,1]/(cnf_matrix[1,0]+cnf_matrix[1,1])\n",
        "print('Baseline Model 1 Sensitivity : ', sensitivity1)"
      ],
      "metadata": {
        "colab": {
          "base_uri": "https://localhost:8080/"
        },
        "id": "XaSNj5thy9yl",
        "outputId": "e7b5113d-15a4-4518-d63a-b02b210bc8b7"
      },
      "execution_count": 41,
      "outputs": [
        {
          "output_type": "stream",
          "name": "stdout",
          "text": [
            "Baseline Model 1 Specificity :  1.0\n",
            "Baseline Model 1 Sensitivity :  0.003484320557491289\n"
          ]
        }
      ]
    },
    {
      "cell_type": "markdown",
      "source": [
        "### Baseline Model 2"
      ],
      "metadata": {
        "id": "45yVHhfT0AEW"
      }
    },
    {
      "cell_type": "code",
      "source": [
        "# baseline model 2: undersampled\n",
        "y_pred_und = logreg_und.predict(X_test)\n",
        "\n",
        "# Evaluate accuracy\n",
        "base_accuracy_und = accuracy_score(y_test, y_pred_und)\n",
        "print(f\"Baseline Model 2 Accuracy: {base_accuracy_und}\")"
      ],
      "metadata": {
        "colab": {
          "base_uri": "https://localhost:8080/"
        },
        "id": "iwzbqd0J0KN2",
        "outputId": "b546fba7-d2d9-48df-aaae-aa84aaed9bb6"
      },
      "execution_count": 42,
      "outputs": [
        {
          "output_type": "stream",
          "name": "stdout",
          "text": [
            "Baseline Model 2 Accuracy: 0.45553257497414684\n"
          ]
        }
      ]
    },
    {
      "cell_type": "code",
      "source": [
        "# confusion matrix - baseline model 2\n",
        "cnf_matrix_und = metrics.confusion_matrix(y_test, y_pred_und)"
      ],
      "metadata": {
        "id": "6oERAK6v0aOp"
      },
      "execution_count": 43,
      "outputs": []
    },
    {
      "cell_type": "code",
      "source": [
        "# create heatmap\n",
        "sns.heatmap(pd.DataFrame(cnf_matrix_und), annot=True, cmap=\"YlGnBu\" ,fmt='g')\n",
        "plt.tight_layout()\n",
        "plt.title('Confusion matrix - Baseline Model 2', y=1.1)\n",
        "plt.ylabel('Actual label')\n",
        "plt.xlabel('Predicted label')\n",
        "plt.show()"
      ],
      "metadata": {
        "colab": {
          "base_uri": "https://localhost:8080/",
          "height": 571
        },
        "id": "ulqVpK3w7k2n",
        "outputId": "6537e1ee-0f0c-492b-9986-efa21762d600"
      },
      "execution_count": 44,
      "outputs": [
        {
          "output_type": "display_data",
          "data": {
            "text/plain": [
              "<Figure size 640x480 with 2 Axes>"
            ],
            "image/png": "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\n"
          },
          "metadata": {}
        }
      ]
    },
    {
      "cell_type": "code",
      "source": [
        "specificity1 = cnf_matrix_und[0,0]/(cnf_matrix_und[0,0]+cnf_matrix_und[0,1])\n",
        "print('Baseline Model 2 Specificity : ', specificity1 )\n",
        "\n",
        "sensitivity1 = cnf_matrix_und[1,1]/(cnf_matrix_und[1,0]+cnf_matrix_und[1,1])\n",
        "print('Baseline Model 2 Sensitivity : ', sensitivity1)"
      ],
      "metadata": {
        "colab": {
          "base_uri": "https://localhost:8080/"
        },
        "id": "HUenjWHH0o-3",
        "outputId": "af34fa70-7835-49a7-e011-29306d6f4e4e"
      },
      "execution_count": 46,
      "outputs": [
        {
          "output_type": "stream",
          "name": "stdout",
          "text": [
            "Baseline Model 2 Specificity :  0.42501517911353975\n",
            "Baseline Model 2 Sensitivity :  0.6306620209059234\n"
          ]
        }
      ]
    },
    {
      "cell_type": "markdown",
      "source": [
        "The accuracy of baseline model 1 is higher than of baseline model 2. However, the high accuracy only represents the ratio of true positives to true negatives. This is reflected in the relationship of sensitivity and specificity as well. The perfect specificity score of 1 reflects that all true negatives are predicted as such. However, the near zero sensitivity shows that nearly all true positives are classified as negatives as well.\n",
        "\n",
        "Thus, we chose baseline model 2 (undersampled) as a more reliable baseline model, despite the lower and bad accuracy but due to the better sensitivity and specificity ratio."
      ],
      "metadata": {
        "id": "nJRS1ZT908CJ"
      }
    }
  ]
}
