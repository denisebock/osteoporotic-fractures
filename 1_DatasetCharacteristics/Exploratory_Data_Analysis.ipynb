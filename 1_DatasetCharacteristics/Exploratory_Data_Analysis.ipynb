{
  "cells": [
    {
      "cell_type": "markdown",
      "metadata": {
        "id": "view-in-github",
        "colab_type": "text"
      },
      "source": [
        "<a href=\"https://colab.research.google.com/github/denisebock/osteoporotic-fractures/blob/main/1_DatasetCharacteristics/Exploratory_Data_Analysis.ipynb\" target=\"_parent\"><img src=\"https://colab.research.google.com/assets/colab-badge.svg\" alt=\"Open In Colab\"/></a>"
      ]
    },
    {
      "cell_type": "markdown",
      "metadata": {
        "id": "1cFasUFvQIEg"
      },
      "source": [
        "# Exploratory Data Analysis (EDA)\n",
        "\n",
        "## Table of Contents\n",
        "1. [Dataset Overview](#dataset-overview)\n",
        "2. [Handling Missing Values](#handling-missing-values)\n",
        "3. [Feature Distributions](#feature-distributions)\n",
        "4. [Possible Biases](#possible-biases)\n",
        "5. [Correlations](#correlations)\n"
      ]
    },
    {
      "cell_type": "code",
      "execution_count": null,
      "metadata": {
        "id": "P_1KHvCOQIEv"
      },
      "outputs": [],
      "source": [
        "# Import necessary libraries\n",
        "import pandas as pd\n",
        "import numpy as np\n",
        "import matplotlib.pyplot as plt\n",
        "import seaborn as sns\n"
      ]
    },
    {
      "cell_type": "markdown",
      "metadata": {
        "id": "okCvFiATQIEz"
      },
      "source": [
        "## Dataset Overview\n",
        "\n",
        "Source: https://sofonline.ucsf.edu/\n"
      ]
    },
    {
      "cell_type": "code",
      "source": [
        "# mount google drive if needed\n",
        "from google.colab import drive\n",
        "drive.mount('/content/drive')"
      ],
      "metadata": {
        "colab": {
          "base_uri": "https://localhost:8080/"
        },
        "id": "kkgLpc7FdTvu",
        "outputId": "5ea818de-0bb3-4f44-d1c7-e0bdc35653fb"
      },
      "execution_count": null,
      "outputs": [
        {
          "output_type": "stream",
          "name": "stdout",
          "text": [
            "Mounted at /content/drive\n"
          ]
        }
      ]
    },
    {
      "cell_type": "code",
      "execution_count": null,
      "metadata": {
        "colab": {
          "base_uri": "https://localhost:8080/"
        },
        "id": "XBbdTP5gQIE0",
        "outputId": "03a95932-4c7a-422b-b66d-025b852b1ed2"
      },
      "outputs": [
        {
          "output_type": "stream",
          "name": "stdout",
          "text": [
            "   Unnamed: 0      V1BMI  V1WGHT  V1HGHT   ID  V2WGHT  V2HGHT      V2BMI  \\\n",
            "0           0  28.671137    65.2  150.80  1.0    67.3   150.5  29.712696   \n",
            "1           1  28.235766    63.7  150.20  2.0    68.4   151.8  29.683326   \n",
            "2           2  30.700408    70.0  151.00  3.0    72.7   151.0  31.884566   \n",
            "3           3  25.205854    62.9  157.97  4.0    60.6   155.1  25.191210   \n",
            "4           4  17.616528    43.7  157.50  5.0    44.7   157.0  18.134610   \n",
            "\n",
            "   V3WGHT  V3HGHT  ...  V8PFX9  V8PFX10  V8PFX11  V8PFX12  V8PFX13  V8PFX14  \\\n",
            "0    65.9   151.3  ...     0.0      0.0      0.0      0.0      0.0      0.0   \n",
            "1    68.2   150.8  ...     NaN      NaN      NaN      NaN      NaN      NaN   \n",
            "2    73.2   150.6  ...     0.0      0.0      0.0      0.0      0.0      0.0   \n",
            "3    61.6   154.3  ...     NaN      NaN      NaN      NaN      NaN      NaN   \n",
            "4    45.0   157.3  ...     NaN      NaN      NaN      NaN      NaN      NaN   \n",
            "\n",
            "   V8NPFX  V8PFX  V8PFXDY  Race  \n",
            "0     0.0    0.0   5201.0     0  \n",
            "1     NaN    NaN      NaN     0  \n",
            "2     0.0    0.0   5105.0     0  \n",
            "3     0.0    0.0   5366.0     0  \n",
            "4     NaN    NaN      NaN     0  \n",
            "\n",
            "[5 rows x 310 columns]\n"
          ]
        }
      ],
      "source": [
        "# Load the data\n",
        "# Replace 'your_dataset.csv' with the path to your actual dataset\n",
        "df_wide = pd.read_csv('/content/drive/MyDrive/OPENCAMP_OSTEO_PROJECT/SOF_Data_wide.csv', sep ='\\t')\n",
        "\n",
        "print(df_wide.head())"
      ]
    },
    {
      "cell_type": "code",
      "source": [
        "list(df_wide.columns)"
      ],
      "metadata": {
        "id": "zZWHAbMf4PLE",
        "colab": {
          "base_uri": "https://localhost:8080/"
        },
        "outputId": "678f14dd-39ec-4253-a590-de258bd1b570"
      },
      "execution_count": null,
      "outputs": [
        {
          "output_type": "execute_result",
          "data": {
            "text/plain": [
              "['Unnamed: 0',\n",
              " 'V1BMI',\n",
              " 'V1WGHT',\n",
              " 'V1HGHT',\n",
              " 'ID',\n",
              " 'V2WGHT',\n",
              " 'V2HGHT',\n",
              " 'V2BMI',\n",
              " 'V3WGHT',\n",
              " 'V3HGHT',\n",
              " 'V3BMI',\n",
              " 'V5WGHT',\n",
              " 'V5HGHT',\n",
              " 'V5BMI',\n",
              " 'V4WGHT',\n",
              " 'V4HGHT',\n",
              " 'V4BMI',\n",
              " 'V6WGHT',\n",
              " 'V6HGHT',\n",
              " 'V6BMI',\n",
              " 'V7WGHT',\n",
              " 'V7HGHT',\n",
              " 'V7BMI',\n",
              " 'V8WGHT',\n",
              " 'V8HGHT',\n",
              " 'V8BMI',\n",
              " 'V9WGHT',\n",
              " 'V9HGHT',\n",
              " 'V9BMI',\n",
              " 'V1SHT3MS',\n",
              " 'V5SHT3MS',\n",
              " 'V8SHT3MS',\n",
              " 'V4SHT3MS',\n",
              " 'V6SHT3MS',\n",
              " 'V4AGE',\n",
              " 'V5AGE',\n",
              " 'V3AGE',\n",
              " 'V2AGE',\n",
              " 'V1AGE',\n",
              " 'V9SHT3MS',\n",
              " 'V6AGE',\n",
              " 'V8AGE',\n",
              " 'V9AGE',\n",
              " 'V7AGE',\n",
              " 'V5TIBMID',\n",
              " 'V1HYSAGE',\n",
              " 'V1OVAGE',\n",
              " 'V1OVAGE2',\n",
              " 'V1CAGE',\n",
              " 'V1MAGE',\n",
              " 'V1SAGE',\n",
              " 'V6MAGE',\n",
              " 'V4DOCF',\n",
              " 'V4VERT',\n",
              " 'V4FALL',\n",
              " 'V4NFALL',\n",
              " 'V1DOCF',\n",
              " 'V1VERT',\n",
              " 'V1FALL',\n",
              " 'V1NFALL',\n",
              " 'V1HIP50',\n",
              " 'V1SISHIP',\n",
              " 'V1DADHIP',\n",
              " 'V1MHIP50',\n",
              " 'V3DOCF',\n",
              " 'V3FALL',\n",
              " 'V3NFALL',\n",
              " 'V3VERT',\n",
              " 'V5FALL',\n",
              " 'V5NFALL',\n",
              " 'V5DOCF',\n",
              " 'V5VERT',\n",
              " 'V2DOCF',\n",
              " 'V2FALL',\n",
              " 'V2NFALL',\n",
              " 'V2VERT',\n",
              " 'V2BROHIP',\n",
              " 'V6FALL',\n",
              " 'V6NFALL',\n",
              " 'V6DOCF',\n",
              " 'V6VERT',\n",
              " 'V8DOCF',\n",
              " 'V8VERT',\n",
              " 'V8FALL',\n",
              " 'V8NFALL',\n",
              " 'V9DOCF',\n",
              " 'V9FALL',\n",
              " 'V9NFALL',\n",
              " 'V7FALL',\n",
              " 'V7NFALL',\n",
              " 'V1AVDRWK',\n",
              " 'V1DRAGE',\n",
              " 'V1SMOKE',\n",
              " 'V1SMKAGE',\n",
              " 'V1COFAGE',\n",
              " 'V1TEAAGE',\n",
              " 'V1COKAGE',\n",
              " 'V1GTAGE',\n",
              " 'V3EDIAB',\n",
              " 'V3EDIABT',\n",
              " 'V3ESTRK',\n",
              " 'V3ESTRKT',\n",
              " 'V1EDAGE',\n",
              " 'V1HYAGE',\n",
              " 'V1OSAGE',\n",
              " 'V1ESTRK',\n",
              " 'V1EPARK',\n",
              " 'V1EARTH',\n",
              " 'V1EAAGE',\n",
              " 'V1HYTEN',\n",
              " 'V1EDIAB',\n",
              " 'V2SHIPIL',\n",
              " 'V4ESTRK',\n",
              " 'V4ESTRKT',\n",
              " 'V4EDIAB',\n",
              " 'V4EDIABT',\n",
              " 'V4EPARK',\n",
              " 'V4EPARKT',\n",
              " 'V4EALZH',\n",
              " 'V4EALZHT',\n",
              " 'V4LIVERT',\n",
              " 'V4RENAL',\n",
              " 'V4RENALT',\n",
              " 'V4BRTHD',\n",
              " 'V5HIPINJ',\n",
              " 'V5HPIAGE',\n",
              " 'V5HPDAGE',\n",
              " 'V5KNAGE',\n",
              " 'V5FTAGE',\n",
              " 'V1THYUSE',\n",
              " 'V1OESUSE',\n",
              " 'V1ANTDEP',\n",
              " 'V1THIUSE',\n",
              " 'V9ESTRK',\n",
              " 'V9ESTRKT',\n",
              " 'V9EDIAB',\n",
              " 'V9EDIABT',\n",
              " 'V9EPARK',\n",
              " 'V9EPARKT',\n",
              " 'V9EALZH',\n",
              " 'V9EALZHT',\n",
              " 'V8ESTRK',\n",
              " 'V8ESTRKT',\n",
              " 'V8EDIAB',\n",
              " 'V8EDIABT',\n",
              " 'V8EALZH',\n",
              " 'V8EALZHT',\n",
              " 'V8EPARK',\n",
              " 'V8EPARKT',\n",
              " 'V8EBCAGE',\n",
              " 'V8ECCAGE',\n",
              " 'V6ACONV',\n",
              " 'V5ACONV',\n",
              " 'V8ACONV',\n",
              " 'V4ACONV',\n",
              " 'V3OESUSE',\n",
              " 'V9ACONV',\n",
              " 'V3CHRTM',\n",
              " 'V3STPLGT',\n",
              " 'V3WLKSPD',\n",
              " 'V2CHRTM',\n",
              " 'V2STPLGT',\n",
              " 'V2WLKSPD',\n",
              " 'V1CHRTM',\n",
              " 'V1STPLGT',\n",
              " 'V1WLKSPD',\n",
              " 'V4CHRTM',\n",
              " 'V4FRAIL',\n",
              " 'V4STPLGT',\n",
              " 'V4WLKSPD',\n",
              " 'V6CHRTM',\n",
              " 'V6FRAIL',\n",
              " 'V6STPLGT',\n",
              " 'V6WLKSPD',\n",
              " 'V5CHRTM',\n",
              " 'V5FRAIL',\n",
              " 'V5STPLGT',\n",
              " 'V5WLKSPD',\n",
              " 'V7CHRTM',\n",
              " 'V7STPLGT',\n",
              " 'V7WLKSPD',\n",
              " 'V8CHRTM',\n",
              " 'V8STPLGT',\n",
              " 'V8WLKSPD',\n",
              " 'V9CHRTM',\n",
              " 'V9STPLGT',\n",
              " 'V9WLKSPD',\n",
              " 'V9OXFALL',\n",
              " 'V8XFALL',\n",
              " 'V1AC2040',\n",
              " 'V1CSNORM',\n",
              " 'V4AC2040',\n",
              " 'V2AC2040',\n",
              " 'V1DIZZY',\n",
              " 'V1PSTHY2',\n",
              " 'V1PFX',\n",
              " 'V1NPFX',\n",
              " 'V1PFX2',\n",
              " 'V1PFX3',\n",
              " 'V1PFX4',\n",
              " 'V1PFX5',\n",
              " 'V1PFX6',\n",
              " 'V1PFX7',\n",
              " 'V1PFX8',\n",
              " 'V1PFX9',\n",
              " 'V1PFX10',\n",
              " 'V1PFX11',\n",
              " 'V1PFX12',\n",
              " 'V1PFX13',\n",
              " 'V1PFX14',\n",
              " 'V1PFXDY',\n",
              " 'V2THD',\n",
              " 'V1HIPI',\n",
              " 'V1TSTAGE',\n",
              " 'V4THD2',\n",
              " 'V4THD',\n",
              " 'V42DTHD',\n",
              " 'V42PTHD',\n",
              " 'V3PFX',\n",
              " 'V3NPFX',\n",
              " 'V3PFX2',\n",
              " 'V3PFX3',\n",
              " 'V3PFX4',\n",
              " 'V3PFX5',\n",
              " 'V3PFX6',\n",
              " 'V3PFX7',\n",
              " 'V3PFX8',\n",
              " 'V3PFX9',\n",
              " 'V3PFX10',\n",
              " 'V3PFX11',\n",
              " 'V3PFX12',\n",
              " 'V3PFX13',\n",
              " 'V3PFX14',\n",
              " 'V3PFXDY',\n",
              " 'V2HIPI',\n",
              " 'V2TSTAGE',\n",
              " 'V3HIPI',\n",
              " 'V3TSTAGE',\n",
              " 'V4HIPI',\n",
              " 'V4TSTAGE',\n",
              " 'V6THD',\n",
              " 'V6THD2',\n",
              " 'V6THD4',\n",
              " 'V6THD5',\n",
              " 'V62DTHD',\n",
              " 'V62PTHD',\n",
              " 'V64DTHD',\n",
              " 'V64PTHD',\n",
              " 'V65DTHD',\n",
              " 'V65PTHD',\n",
              " 'V5THD2',\n",
              " 'V5THD',\n",
              " 'V5THD4',\n",
              " 'V52DTHD',\n",
              " 'V52PTHD',\n",
              " 'V54DTHD',\n",
              " 'V54PTHD',\n",
              " 'V5HIPI',\n",
              " 'V5TSTAGE',\n",
              " 'V7THD',\n",
              " 'V7THD2',\n",
              " 'V7THD4',\n",
              " 'V7THD5',\n",
              " 'V7THD6',\n",
              " 'V72DTHD',\n",
              " 'V72PTHD',\n",
              " 'V74DTHD',\n",
              " 'V74PTHD',\n",
              " 'V75DTHD',\n",
              " 'V75PTHD',\n",
              " 'V76DTHD',\n",
              " 'V76PTHD',\n",
              " 'V6HIPI',\n",
              " 'V6TSTAGE',\n",
              " 'V8HIPI',\n",
              " 'V8TSTAGE',\n",
              " 'V8THD',\n",
              " 'V8THD2',\n",
              " 'V8THD4',\n",
              " 'V8THD5',\n",
              " 'V8THD6',\n",
              " 'V8THD7',\n",
              " 'V82DTHD',\n",
              " 'V82PTHD',\n",
              " 'V84DTHD',\n",
              " 'V84PTHD',\n",
              " 'V85DTHD',\n",
              " 'V85PTHD',\n",
              " 'V86DTHD',\n",
              " 'V86PTHD',\n",
              " 'V87DTHD',\n",
              " 'V87PTHD',\n",
              " 'V9THD',\n",
              " 'V8PFX2',\n",
              " 'V8PFX3',\n",
              " 'V8PFX4',\n",
              " 'V8PFX5',\n",
              " 'V8PFX6',\n",
              " 'V8PFX7',\n",
              " 'V8PFX8',\n",
              " 'V8PFX9',\n",
              " 'V8PFX10',\n",
              " 'V8PFX11',\n",
              " 'V8PFX12',\n",
              " 'V8PFX13',\n",
              " 'V8PFX14',\n",
              " 'V8NPFX',\n",
              " 'V8PFX',\n",
              " 'V8PFXDY',\n",
              " 'Race']"
            ]
          },
          "metadata": {},
          "execution_count": 4
        }
      ]
    },
    {
      "cell_type": "code",
      "source": [
        "#subdataset for V1\n",
        "v1df_wide = df_wide.filter(like='V1')\n",
        "\n",
        "# Display the first few rows of the dataframe to show the structure\n",
        "print(\"Example data:\")\n",
        "print(v1df_wide.head())\n"
      ],
      "metadata": {
        "colab": {
          "base_uri": "https://localhost:8080/"
        },
        "id": "Hb2jyRgyW1jd",
        "outputId": "467fe536-753c-4d85-fbd7-0940e95600e3"
      },
      "execution_count": null,
      "outputs": [
        {
          "output_type": "stream",
          "name": "stdout",
          "text": [
            "Example data:\n",
            "       V1BMI  V1WGHT  V1HGHT  V1SHT3MS  V1AGE  V1HYSAGE  V1OVAGE  V1OVAGE2  \\\n",
            "0  28.671137    65.2  150.80      25.0   67.0      65.0     65.0       NaN   \n",
            "1  28.235766    63.7  150.20      24.0   82.0       NaN      NaN       NaN   \n",
            "2  30.700408    70.0  151.00      26.0   73.0       NaN      NaN       NaN   \n",
            "3  25.205854    62.9  157.97      26.0   65.0      45.0      NaN       NaN   \n",
            "4  17.616528    43.7  157.50      23.0   82.0       NaN      NaN       NaN   \n",
            "\n",
            "   V1CAGE  V1MAGE  ...  V1PFX8  V1PFX9  V1PFX10  V1PFX11  V1PFX12  V1PFX13  \\\n",
            "0     NaN     NaN  ...     0.0     0.0      0.0      0.0      0.0      0.0   \n",
            "1     1.0     NaN  ...     NaN     NaN      NaN      NaN      NaN      NaN   \n",
            "2     NaN     NaN  ...     0.0     0.0      0.0      0.0      0.0      0.0   \n",
            "3     2.0     NaN  ...     NaN     NaN      NaN      NaN      NaN      NaN   \n",
            "4     NaN     NaN  ...     NaN     NaN      NaN      NaN      NaN      NaN   \n",
            "\n",
            "   V1PFX14  V1PFXDY  V1HIPI  V1TSTAGE  \n",
            "0      0.0      0.0     0.0       NaN  \n",
            "1      NaN      0.0     0.0       NaN  \n",
            "2      0.0     -5.0     0.0       NaN  \n",
            "3      NaN      0.0     0.0       NaN  \n",
            "4      NaN      0.0     0.0       NaN  \n",
            "\n",
            "[5 rows x 65 columns]\n"
          ]
        }
      ]
    },
    {
      "cell_type": "code",
      "source": [
        "#filter var with multiple versions: AGE, THD, PFX, FALL\n",
        "#spec_var = ['V1AGE', 'V1THD', 'V1PFX', 'V1FALL']\n",
        "#df_filt = v1df_wide\n",
        "\n",
        "#filt_spec_var = df_filt.filter(like=spec_var)\n",
        "#print(filt_spec_var)\n",
        "\n",
        "#remove var with multiple versions: AGE, THD, PFX, FALL\n",
        "list(v1df_wide.columns)"
      ],
      "metadata": {
        "id": "CsXY3D9YQjX1",
        "colab": {
          "base_uri": "https://localhost:8080/"
        },
        "outputId": "bb35aab2-88fc-4364-95b9-b7e0407d11bd"
      },
      "execution_count": null,
      "outputs": [
        {
          "output_type": "execute_result",
          "data": {
            "text/plain": [
              "['V1BMI',\n",
              " 'V1WGHT',\n",
              " 'V1HGHT',\n",
              " 'V1SHT3MS',\n",
              " 'V1AGE',\n",
              " 'V1HYSAGE',\n",
              " 'V1OVAGE',\n",
              " 'V1OVAGE2',\n",
              " 'V1CAGE',\n",
              " 'V1MAGE',\n",
              " 'V1SAGE',\n",
              " 'V1DOCF',\n",
              " 'V1VERT',\n",
              " 'V1FALL',\n",
              " 'V1NFALL',\n",
              " 'V1HIP50',\n",
              " 'V1SISHIP',\n",
              " 'V1DADHIP',\n",
              " 'V1MHIP50',\n",
              " 'V1AVDRWK',\n",
              " 'V1DRAGE',\n",
              " 'V1SMOKE',\n",
              " 'V1SMKAGE',\n",
              " 'V1COFAGE',\n",
              " 'V1TEAAGE',\n",
              " 'V1COKAGE',\n",
              " 'V1GTAGE',\n",
              " 'V1EDAGE',\n",
              " 'V1HYAGE',\n",
              " 'V1OSAGE',\n",
              " 'V1ESTRK',\n",
              " 'V1EPARK',\n",
              " 'V1EARTH',\n",
              " 'V1EAAGE',\n",
              " 'V1HYTEN',\n",
              " 'V1EDIAB',\n",
              " 'V1THYUSE',\n",
              " 'V1OESUSE',\n",
              " 'V1ANTDEP',\n",
              " 'V1THIUSE',\n",
              " 'V1CHRTM',\n",
              " 'V1STPLGT',\n",
              " 'V1WLKSPD',\n",
              " 'V1AC2040',\n",
              " 'V1CSNORM',\n",
              " 'V1DIZZY',\n",
              " 'V1PSTHY2',\n",
              " 'V1PFX',\n",
              " 'V1NPFX',\n",
              " 'V1PFX2',\n",
              " 'V1PFX3',\n",
              " 'V1PFX4',\n",
              " 'V1PFX5',\n",
              " 'V1PFX6',\n",
              " 'V1PFX7',\n",
              " 'V1PFX8',\n",
              " 'V1PFX9',\n",
              " 'V1PFX10',\n",
              " 'V1PFX11',\n",
              " 'V1PFX12',\n",
              " 'V1PFX13',\n",
              " 'V1PFX14',\n",
              " 'V1PFXDY',\n",
              " 'V1HIPI',\n",
              " 'V1TSTAGE']"
            ]
          },
          "metadata": {},
          "execution_count": 6
        }
      ]
    },
    {
      "cell_type": "code",
      "source": [
        "#remove var with multiple versions: AGE, THD, PFX, FALL\n",
        "v1df_wide.drop(['V1HYSAGE','V1OVAGE','V1OVAGE2','V1CAGE','V1MAGE','V1SAGE',\n",
        "                'V1TSTAGE', 'V1SMKAGE', 'V1COFAGE', 'V1TEAAGE', 'V1COKAGE',\n",
        "                'V1DRAGE', 'V1EAAGE', 'V1GTAGE', 'V1EDAGE', 'V1HYAGE',\n",
        "                'V1OSAGE', 'V1NPFX','V1PFX2','V1PFX3','V1PFX4','V1PFX5',\n",
        "                'V1PFX6','V1PFX7','V1PFX8','V1PFX9','V1PFX10','V1PFX11',\n",
        "                'V1PFX12','V1PFX13','V1PFX14','V1PFXDY', 'V1NFALL'],\n",
        "               axis=1, inplace=True)"
      ],
      "metadata": {
        "colab": {
          "base_uri": "https://localhost:8080/"
        },
        "id": "FSyZHUwfT-fH",
        "outputId": "e0ed4198-d92b-4edc-cba9-e47e486ce594"
      },
      "execution_count": null,
      "outputs": [
        {
          "output_type": "stream",
          "name": "stderr",
          "text": [
            "<ipython-input-7-23b383b4e1bf>:2: SettingWithCopyWarning: \n",
            "A value is trying to be set on a copy of a slice from a DataFrame\n",
            "\n",
            "See the caveats in the documentation: https://pandas.pydata.org/pandas-docs/stable/user_guide/indexing.html#returning-a-view-versus-a-copy\n",
            "  v1df_wide.drop(['V1HYSAGE','V1OVAGE','V1OVAGE2','V1CAGE','V1MAGE','V1SAGE',\n"
          ]
        }
      ]
    },
    {
      "cell_type": "code",
      "source": [
        "# Number of samples\n",
        "num_samples = v1df_wide.shape[0]\n",
        "\n",
        "# Number of features\n",
        "num_features = v1df_wide.shape[1]\n",
        "\n",
        "# Display these dataset characteristics\n",
        "print(f\"Number of samples: {num_samples}\")\n",
        "print(f\"Number of features: {num_features}\")"
      ],
      "metadata": {
        "id": "OmKkRzvVzKVX",
        "colab": {
          "base_uri": "https://localhost:8080/"
        },
        "outputId": "5adc9124-2faa-456f-d9fb-930a257bf842"
      },
      "execution_count": null,
      "outputs": [
        {
          "output_type": "stream",
          "name": "stdout",
          "text": [
            "Number of samples: 9704\n",
            "Number of features: 32\n"
          ]
        }
      ]
    },
    {
      "cell_type": "markdown",
      "metadata": {
        "id": "ekf_o29tQIE2"
      },
      "source": [
        "## Handling Missing Values\n",
        "\n",
        "1. Variables with more than 1000 values were deleted --> 3 variables\n",
        "2. Median imputation"
      ]
    },
    {
      "cell_type": "code",
      "execution_count": null,
      "metadata": {
        "id": "La4DOYUpQIE3",
        "colab": {
          "base_uri": "https://localhost:8080/"
        },
        "outputId": "ffbe0d80-1876-43bf-e876-1735a7ee28e6"
      },
      "outputs": [
        {
          "output_type": "execute_result",
          "data": {
            "text/plain": [
              "V1BMI         61\n",
              "V1WGHT       163\n",
              "V1HGHT       110\n",
              "V1SHT3MS      53\n",
              "V1AGE         31\n",
              "V1DOCF        34\n",
              "V1VERT        99\n",
              "V1FALL        18\n",
              "V1HIP50       35\n",
              "V1SISHIP    2978\n",
              "V1DADHIP    3589\n",
              "V1MHIP50    2323\n",
              "V1AVDRWK       0\n",
              "V1SMOKE       31\n",
              "V1ESTRK       57\n",
              "V1EPARK       11\n",
              "V1EARTH      182\n",
              "V1HYTEN        3\n",
              "V1EDIAB       25\n",
              "V1THYUSE      87\n",
              "V1OESUSE     136\n",
              "V1ANTDEP      55\n",
              "V1THIUSE      94\n",
              "V1CHRTM       73\n",
              "V1STPLGT       7\n",
              "V1WLKSPD       8\n",
              "V1AC2040       0\n",
              "V1CSNORM       0\n",
              "V1DIZZY       24\n",
              "V1PSTHY2       9\n",
              "V1PFX        129\n",
              "V1HIPI        38\n",
              "dtype: int64"
            ]
          },
          "metadata": {},
          "execution_count": 9
        }
      ],
      "source": [
        "# Check for missing values\n",
        "missing_values = v1df_wide.isnull().sum()\n",
        "missing_values"
      ]
    },
    {
      "cell_type": "code",
      "source": [
        "#Note: Features with >1000 missing values will be deleted\n",
        "#In this case: V1SISHIP = 2978 / V1DADHIP = 3589 / V1MHIP50 = 2323\n",
        "v1df_wide.drop(['V1SISHIP', 'V1DADHIP', 'V1MHIP50'], axis=1, inplace=True)"
      ],
      "metadata": {
        "id": "WmOJ8jhbOvLu"
      },
      "execution_count": null,
      "outputs": []
    },
    {
      "cell_type": "code",
      "source": [
        "#check\n",
        "# Check for missing values\n",
        "missing_values = v1df_wide.isnull().sum()\n",
        "missing_values\n",
        "\n",
        "  #we have 27 columns"
      ],
      "metadata": {
        "colab": {
          "base_uri": "https://localhost:8080/"
        },
        "id": "Y_UzDfQ_K5eJ",
        "outputId": "0f93250f-eeff-4600-f07a-63c4678df318"
      },
      "execution_count": null,
      "outputs": [
        {
          "output_type": "execute_result",
          "data": {
            "text/plain": [
              "V1BMI        61\n",
              "V1WGHT      163\n",
              "V1HGHT      110\n",
              "V1SHT3MS     53\n",
              "V1AGE        31\n",
              "V1DOCF       34\n",
              "V1VERT       99\n",
              "V1FALL       18\n",
              "V1HIP50      35\n",
              "V1AVDRWK      0\n",
              "V1SMOKE      31\n",
              "V1ESTRK      57\n",
              "V1EPARK      11\n",
              "V1EARTH     182\n",
              "V1HYTEN       3\n",
              "V1EDIAB      25\n",
              "V1THYUSE     87\n",
              "V1OESUSE    136\n",
              "V1ANTDEP     55\n",
              "V1THIUSE     94\n",
              "V1CHRTM      73\n",
              "V1STPLGT      7\n",
              "V1WLKSPD      8\n",
              "V1AC2040      0\n",
              "V1CSNORM      0\n",
              "V1DIZZY      24\n",
              "V1PSTHY2      9\n",
              "V1PFX       129\n",
              "V1HIPI       38\n",
              "dtype: int64"
            ]
          },
          "metadata": {},
          "execution_count": 11
        }
      ]
    },
    {
      "cell_type": "code",
      "source": [
        "v1df_wide['V1ESTRK'].unique()"
      ],
      "metadata": {
        "colab": {
          "base_uri": "https://localhost:8080/"
        },
        "id": "P1W0tmrH1fpH",
        "outputId": "78140c15-1989-4f46-f8ab-8f3001583339"
      },
      "execution_count": null,
      "outputs": [
        {
          "output_type": "execute_result",
          "data": {
            "text/plain": [
              "array([ 0.,  1., nan])"
            ]
          },
          "metadata": {},
          "execution_count": 12
        }
      ]
    },
    {
      "cell_type": "code",
      "source": [
        "#separate continuous, discrete, categorical variables\n",
        "cont_var = ['V1BMI', 'V1WGHT', 'V1HGHT', 'V1AVDRWK','V1CHRTM','V1STPLGT',\n",
        "            'V1WLKSPD','V1CSNORM']\n",
        "dis_var = ['V1AGE', 'V1SHT3MS', 'V1THYUSE', 'V1OESUSE', 'V1THIUSE'] #remove age?\n",
        "cat_var = ['V1DOCF', 'V1VERT', 'V1FALL', 'V1HIP50', 'V1SMOKE', 'V1ESTRK',\n",
        "               'V1EPARK', 'V1EARTH', 'V1HYTEN', 'V1EDIAB', 'V1ANTDEP',\n",
        "               'V1AC2040', 'V1DIZZY', 'V1PSTHY2', 'V1PFX']\n",
        "  #cat_multi_var = v1df_wide['V1SHT3MS', 'V1THYUSE']"
      ],
      "metadata": {
        "id": "TqoItxXhMpp0"
      },
      "execution_count": null,
      "outputs": []
    },
    {
      "cell_type": "code",
      "execution_count": null,
      "metadata": {
        "id": "x0D6SbytQIE5"
      },
      "outputs": [],
      "source": [
        "# Handling missing values #1\n",
        "\n",
        "  # fill missing values for continuous var\n",
        "  # rule: fill with median value\n",
        "for column in cont_var:\n",
        "  v1df_wide[column].fillna(v1df_wide[column].median(), inplace=True)\n",
        "\n",
        "  # fill missing values for discrete var\n",
        "  # rule: fill with median value rounded to nearest whole number\n",
        "for column in dis_var:\n",
        "  v1df_wide[column].fillna(v1df_wide[column].median().round().astype(int), inplace=True)\n",
        "\n",
        "  # fill missing values for categorical var\n",
        "  # rule: if median < 0.5, fill w/ 0, > 0.5 fill w/ 1, = 0.5, randomly fill w/ 0 or 1\n",
        "for column in cat_var:\n",
        "    median_value = v1df_wide[column].median()\n",
        "\n",
        "    # check conditions and fill NaN values accordingly\n",
        "    if median_value < 0.5:\n",
        "        v1df_wide[column].fillna(0, inplace=True)\n",
        "    elif median_value > 0.5:\n",
        "      v1df_wide[column].fillna(1, inplace=True)\n",
        "    else:\n",
        "        # randomly fill NaN with 0 or 1\n",
        "        v1df_wide[column].fillna(np.random.choice([0, 1]), inplace=True)\n"
      ]
    },
    {
      "cell_type": "code",
      "source": [
        "# check dataframe\n",
        "\n",
        "print(\"DataFrame after filling NaN values:\")\n",
        "print(v1df_wide)"
      ],
      "metadata": {
        "colab": {
          "base_uri": "https://localhost:8080/"
        },
        "id": "c4yNuE3GxGAV",
        "outputId": "1cb2c3cc-e24d-4e8b-8ddf-232dd0f4bd09"
      },
      "execution_count": null,
      "outputs": [
        {
          "output_type": "stream",
          "name": "stdout",
          "text": [
            "DataFrame after filling NaN values:\n",
            "          V1BMI  V1WGHT  V1HGHT  V1SHT3MS  V1AGE  V1DOCF  V1VERT  V1FALL  \\\n",
            "0     28.671137    65.2  150.80      25.0   67.0     1.0     0.0     0.0   \n",
            "1     28.235766    63.7  150.20      24.0   82.0     1.0     1.0     0.0   \n",
            "2     30.700408    70.0  151.00      26.0   73.0     0.0     0.0     0.0   \n",
            "3     25.205854    62.9  157.97      26.0   65.0     0.0     0.0     0.0   \n",
            "4     17.616528    43.7  157.50      23.0   82.0     0.0     0.0     0.0   \n",
            "...         ...     ...     ...       ...    ...     ...     ...     ...   \n",
            "9699  30.026062    72.8  155.71      24.0   72.0     1.0     0.0     1.0   \n",
            "9700  24.375499    63.9  161.91      23.0   75.0     1.0     0.0     0.0   \n",
            "9701  30.110043    68.2  150.50      24.0   66.0     1.0     0.0     0.0   \n",
            "9702  22.321391    52.8  153.80      25.0   74.0     0.0     0.0     1.0   \n",
            "9703  23.230913    56.6  156.09      22.0   77.0     1.0     0.0     0.0   \n",
            "\n",
            "      V1HIP50  V1AVDRWK  ...  V1THIUSE  V1CHRTM  V1STPLGT  V1WLKSPD  V1AC2040  \\\n",
            "0         0.0  1.250000  ...       0.0     10.9  0.571429  1.188119       1.0   \n",
            "1         0.0  0.000000  ...       0.0     21.1  0.272727  0.338028       1.0   \n",
            "2         0.0  3.318966  ...       0.0     12.6  0.521739  0.845070       0.0   \n",
            "3         0.0  0.250000  ...       1.0      6.1  0.521739  1.071429       0.0   \n",
            "4         0.0  0.250000  ...       0.0     11.6  0.428571  0.638298       0.0   \n",
            "...       ...       ...  ...       ...      ...       ...       ...       ...   \n",
            "9699      0.0  0.134615  ...       2.0     13.2  0.413793  0.645161       0.0   \n",
            "9700      0.0  0.000000  ...       2.0     15.4  0.545455  0.863309       0.0   \n",
            "9701      0.0  8.936170  ...       1.0     10.6  0.600000  1.176471       0.0   \n",
            "9702      0.0  1.311275  ...       0.0     10.0  0.500000  0.800000       0.0   \n",
            "9703      0.0  6.244048  ...       0.0     12.0  0.444444  0.670391       1.0   \n",
            "\n",
            "      V1CSNORM  V1DIZZY  V1PSTHY2  V1PFX  V1HIPI  \n",
            "0     1.050893      0.0       0.0    0.0     0.0  \n",
            "1     0.880494      0.0       1.0    0.0     0.0  \n",
            "2     1.400000      1.0       0.0    0.0     0.0  \n",
            "3     3.111726      0.0       0.0    0.0     0.0  \n",
            "4     0.995238      0.0       0.0    0.0     0.0  \n",
            "...        ...      ...       ...    ...     ...  \n",
            "9699  2.405655      0.0       0.0    0.0     0.0  \n",
            "9700  1.477560      0.0       0.0    1.0     1.0  \n",
            "9701  2.240476      0.0       0.0    0.0     0.0  \n",
            "9702  1.117560      1.0       0.0    0.0     0.0  \n",
            "9703  1.264286      1.0       0.0    1.0     0.0  \n",
            "\n",
            "[9704 rows x 29 columns]\n"
          ]
        }
      ]
    },
    {
      "cell_type": "code",
      "source": [
        "# check that there are no missing values\n",
        "missing_values = v1df_wide.isnull().sum()\n",
        "missing_values"
      ],
      "metadata": {
        "colab": {
          "base_uri": "https://localhost:8080/"
        },
        "id": "bYYKn1zoxMC9",
        "outputId": "311643ef-a1e5-4a41-c7ee-c0979a88059e"
      },
      "execution_count": null,
      "outputs": [
        {
          "output_type": "execute_result",
          "data": {
            "text/plain": [
              "V1BMI        0\n",
              "V1WGHT       0\n",
              "V1HGHT       0\n",
              "V1SHT3MS     0\n",
              "V1AGE        0\n",
              "V1DOCF       0\n",
              "V1VERT       0\n",
              "V1FALL       0\n",
              "V1HIP50      0\n",
              "V1AVDRWK     0\n",
              "V1SMOKE      0\n",
              "V1ESTRK      0\n",
              "V1EPARK      0\n",
              "V1EARTH      0\n",
              "V1HYTEN      0\n",
              "V1EDIAB      0\n",
              "V1THYUSE     0\n",
              "V1OESUSE     0\n",
              "V1ANTDEP     0\n",
              "V1THIUSE     0\n",
              "V1CHRTM      0\n",
              "V1STPLGT     0\n",
              "V1WLKSPD     0\n",
              "V1AC2040     0\n",
              "V1CSNORM     0\n",
              "V1DIZZY      0\n",
              "V1PSTHY2     0\n",
              "V1PFX        0\n",
              "V1HIPI      38\n",
              "dtype: int64"
            ]
          },
          "metadata": {},
          "execution_count": 16
        }
      ]
    },
    {
      "cell_type": "code",
      "source": [
        "#drop missing values for HIPI - target variable\n",
        "drop_column = 'V1HIPI'\n",
        "v1df_wide = v1df_wide.dropna(subset=[drop_column])\n",
        "\n",
        "#confirm result\n",
        "missing_values = v1df_wide.isnull().sum()\n",
        "missing_values"
      ],
      "metadata": {
        "colab": {
          "base_uri": "https://localhost:8080/"
        },
        "id": "GHvKRlQ_u83g",
        "outputId": "61819604-ec80-4633-927c-5a9dcb5b4b5c"
      },
      "execution_count": null,
      "outputs": [
        {
          "output_type": "execute_result",
          "data": {
            "text/plain": [
              "V1BMI       0\n",
              "V1WGHT      0\n",
              "V1HGHT      0\n",
              "V1SHT3MS    0\n",
              "V1AGE       0\n",
              "V1DOCF      0\n",
              "V1VERT      0\n",
              "V1FALL      0\n",
              "V1HIP50     0\n",
              "V1AVDRWK    0\n",
              "V1SMOKE     0\n",
              "V1ESTRK     0\n",
              "V1EPARK     0\n",
              "V1EARTH     0\n",
              "V1HYTEN     0\n",
              "V1EDIAB     0\n",
              "V1THYUSE    0\n",
              "V1OESUSE    0\n",
              "V1ANTDEP    0\n",
              "V1THIUSE    0\n",
              "V1CHRTM     0\n",
              "V1STPLGT    0\n",
              "V1WLKSPD    0\n",
              "V1AC2040    0\n",
              "V1CSNORM    0\n",
              "V1DIZZY     0\n",
              "V1PSTHY2    0\n",
              "V1PFX       0\n",
              "V1HIPI      0\n",
              "dtype: int64"
            ]
          },
          "metadata": {},
          "execution_count": 17
        }
      ]
    },
    {
      "cell_type": "markdown",
      "metadata": {
        "id": "cqL5TBBjQIE7"
      },
      "source": [
        "## Feature Distributions\n",
        "\n",
        "[Plot the distribution of various features and target variables. Comment on the skewness, outliers, or any other observations.]\n"
      ]
    },
    {
      "cell_type": "code",
      "execution_count": null,
      "metadata": {
        "id": "PIAKXWM9QIE9",
        "colab": {
          "base_uri": "https://localhost:8080/",
          "height": 1000
        },
        "outputId": "6ca80c16-df77-4263-e89f-2bd7eb01255b"
      },
      "outputs": [
        {
          "output_type": "display_data",
          "data": {
            "text/plain": [
              "<Figure size 1200x1200 with 30 Axes>"
            ],
            "image/png": "[encoded data removed]"
          },
          "metadata": {}
        }
      ],
      "source": [
        "# Example: Plotting histograms of all numerical features\n",
        "v1df_wide.hist(figsize=(12, 12))\n",
        "plt.show()"
      ]
    },
    {
      "cell_type": "markdown",
      "metadata": {
        "id": "blA_SNpFQIE-"
      },
      "source": [
        "## Possible Biases\n",
        "\n",
        "[Investigate the dataset for any biases that could affect the model’s performance and fairness (e.g., class imbalance, historical biases).]\n"
      ]
    },
    {
      "cell_type": "code",
      "execution_count": null,
      "metadata": {
        "id": "NxwAs6czQIFA",
        "colab": {
          "base_uri": "https://localhost:8080/",
          "height": 466
        },
        "outputId": "6b23b389-44e1-4394-aca9-4eb51e1e01e6"
      },
      "outputs": [
        {
          "output_type": "execute_result",
          "data": {
            "text/plain": [
              "<Axes: xlabel='V1HIPI', ylabel='count'>"
            ]
          },
          "metadata": {},
          "execution_count": 19
        },
        {
          "output_type": "display_data",
          "data": {
            "text/plain": [
              "<Figure size 640x480 with 1 Axes>"
            ],
            "image/png": "[encoded data removed]"
          },
          "metadata": {}
        }
      ],
      "source": [
        "# Example: Checking for class imbalance in a classification problem\n",
        "sns.countplot(x='V1HIPI', data=v1df_wide)"
      ]
    },
    {
      "cell_type": "markdown",
      "metadata": {
        "id": "0dR9aYtEQIFB"
      },
      "source": [
        "## Correlations\n",
        "\n",
        "[Explore correlations between features and the target variable, as well as among features themselves.]\n"
      ]
    },
    {
      "cell_type": "code",
      "execution_count": null,
      "metadata": {
        "id": "qMWwjJhMQIFB",
        "colab": {
          "base_uri": "https://localhost:8080/",
          "height": 707
        },
        "outputId": "f9f9f933-731b-4c4e-edc4-62d1b10e25de"
      },
      "outputs": [
        {
          "output_type": "display_data",
          "data": {
            "text/plain": [
              "<Figure size 1200x800 with 2 Axes>"
            ],
            "image/png": "[encoded data removed]"
          },
          "metadata": {}
        }
      ],
      "source": [
        "# Example: Plotting a heatmap to show feature correlations\n",
        "correlation_matrix = v1df_wide.corr()\n",
        "\n",
        "# Increase the size of the figure\n",
        "plt.figure(figsize=(12, 8))\n",
        "\n",
        "heatmap = sns.heatmap(correlation_matrix, annot=False, cmap='coolwarm',\n",
        "            fmt=\".2f\", linewidths=.5)\n",
        "\n",
        "# Adjust the size of x-axis and y-axis tick labels\n",
        "heatmap.set_xticklabels(heatmap.get_xticklabels(), size=5)\n",
        "heatmap.set_yticklabels(heatmap.get_yticklabels(), size=5)\n",
        "\n",
        "plt.show()\n"
      ]
    },
    {
      "cell_type": "code",
      "source": [
        "# remove redundant variables\n",
        "v1df_wide.drop(['V1WGHT'], axis=1, inplace=True)"
      ],
      "metadata": {
        "id": "lNvgj4SpcKf0"
      },
      "execution_count": null,
      "outputs": []
    },
    {
      "cell_type": "code",
      "source": [
        "# Number of samples\n",
        "num_samples_clean = v1df_wide.shape[0]\n",
        "\n",
        "# Number of features\n",
        "num_features_clean = v1df_wide.shape[1]\n",
        "\n",
        "# Display these dataset characteristics\n",
        "print(f\"Number of final participants: {num_samples_clean}\")\n",
        "print(f\"Number of final variables (features): {num_features_clean}\")"
      ],
      "metadata": {
        "colab": {
          "base_uri": "https://localhost:8080/"
        },
        "id": "F2veSZkAHBe4",
        "outputId": "407c0a08-87f6-4410-a94d-4b9b1138b06a"
      },
      "execution_count": null,
      "outputs": [
        {
          "output_type": "stream",
          "name": "stdout",
          "text": [
            "Number of final participants: 9666\n",
            "Number of final variables (features): 29\n"
          ]
        }
      ]
    },
    {
      "cell_type": "markdown",
      "source": [
        "## Save Dataset"
      ],
      "metadata": {
        "id": "EvRdKj62xp0I"
      }
    },
    {
      "cell_type": "code",
      "source": [
        "v1df_wide.to_csv('/content/drive/MyDrive/OPENCAMP_OSTEO_PROJECT/v1df_wide.csv', sep ='\\t')"
      ],
      "metadata": {
        "id": "hOZcX3JwxoCZ"
      },
      "execution_count": null,
      "outputs": []
    }
  ],
  "metadata": {
    "kernelspec": {
      "display_name": "Python 3",
      "language": "python",
      "name": "python3"
    },
    "language_info": {
      "name": "python",
      "version": "3.8.0"
    },
    "colab": {
      "provenance": [],
      "include_colab_link": true
    }
  },
  "nbformat": 4,
  "nbformat_minor": 0
}