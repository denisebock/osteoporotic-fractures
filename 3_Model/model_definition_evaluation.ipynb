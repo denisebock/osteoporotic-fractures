{
  "nbformat": 4,
  "nbformat_minor": 0,
  "metadata": {
    "colab": {
      "provenance": []
    },
    "kernelspec": {
      "name": "python3",
      "display_name": "Python 3"
    },
    "language_info": {
      "name": "python"
    }
  },
  "cells": [
    {
      "cell_type": "markdown",
      "source": [
        "# Model Definition and Evaluation\n",
        "## Table of Contents\n",
        "1. [Model Selection](#model-selection)\n",
        "2. [Feature Engineering](#feature-engineering)\n",
        "3. [Hyperparameter Tuning](#hyperparameter-tuning)\n",
        "4. [Implementation](#implementation)\n",
        "5. [Evaluation Metrics](#evaluation-metrics)\n",
        "6. [Comparative Analysis](#comparative-analysis)\n"
      ],
      "metadata": {
        "id": "6KQoJlWH9qlU"
      }
    },
    {
      "cell_type": "code",
      "execution_count": 7,
      "metadata": {
        "id": "Q2MQ-H0f9hTo"
      },
      "outputs": [],
      "source": [
        "# Import necessary libraries\n",
        "import pandas as pd\n",
        "import numpy as np\n",
        "from sklearn.model_selection import train_test_split\n",
        "from sklearn.metrics import accuracy_score, mean_squared_error"
      ]
    },
    {
      "cell_type": "markdown",
      "source": [
        "# Model Selection"
      ],
      "metadata": {
        "id": "wz4EOcYy90kI"
      }
    },
    {
      "cell_type": "markdown",
      "source": [
        "To improve our metrics, we chose two different approaches:  \n",
        "1. Random Forest\n",
        "2. Neural Network\n",
        "\n",
        "Random forest classification is used in two different ways here. First, we use it to reduce the number of variables and select the most important ones to use in further analyses. Second, it is an excellent tool for classification tasks and was also already used for the SOF dataset.\n",
        "\n",
        "We additionally implemented neural networks to try out a TensorFlow based method for our classification problem, since it was the content of the course.\n",
        "\n",
        "We also added a logistic regression model based o the most important variables to see, if there is any improvement."
      ],
      "metadata": {
        "id": "2gccNlBu94X7"
      }
    },
    {
      "cell_type": "markdown",
      "source": [
        "## Prepare data"
      ],
      "metadata": {
        "id": "4KTMY5F5_L6s"
      }
    },
    {
      "cell_type": "code",
      "source": [
        "# mount google drive if needed\n",
        "from google.colab import drive\n",
        "drive.mount('/content/drive')"
      ],
      "metadata": {
        "colab": {
          "base_uri": "https://localhost:8080/"
        },
        "id": "ieqA8N5o_S_b",
        "outputId": "e184e297-a53b-4a3d-9fc9-b425519bba7c"
      },
      "execution_count": 2,
      "outputs": [
        {
          "output_type": "stream",
          "name": "stdout",
          "text": [
            "Mounted at /content/drive\n"
          ]
        }
      ]
    },
    {
      "cell_type": "code",
      "source": [
        "# Load the data\n",
        "v1df_wide = pd.read_csv('/content/drive/MyDrive/OPENCAMP_OSTEO_PROJECT/v1df_wide.csv', sep ='\\t')"
      ],
      "metadata": {
        "id": "UQsD0y39_ajJ"
      },
      "execution_count": 3,
      "outputs": []
    },
    {
      "cell_type": "code",
      "source": [
        "# Columns to convert to categorical\n",
        "columns_to_convert = ['V1DOCF', 'V1VERT', 'V1FALL', 'V1HIP50', 'V1SMOKE',\n",
        "                      'V1ESTRK', 'V1EPARK', 'V1EARTH', 'V1HYTEN', 'V1EDIAB',\n",
        "                      'V1THYUSE', 'V1OESUSE', 'V1ANTDEP', 'V1THIUSE', 'V1AC2040',\n",
        "                      'V1DIZZY', 'V1PSTHY2', 'V1PFX', 'V1HIPI']\n",
        "\n",
        "# Convert selected columns to categorical\n",
        "v1df_wide[columns_to_convert] = v1df_wide[columns_to_convert].astype('category')\n",
        "\n",
        "# One-hot encode categorical variables with more than 2 categories\n",
        "# columns_to_encode = ['V1SMOKE', 'V1THIUSE', 'V1OESUSE', 'V1THIUSE']\n",
        "# v1df_wide_enc = pd.get_dummies(v1df_wide, columns=columns_to_encode, drop_first=True)\n",
        "\n",
        "# Combine categories, 0 = never + 1 & 2 = ever\n",
        "columns_to_encode = ['V1SMOKE', 'V1THIUSE', 'V1OESUSE']\n",
        "  # Define function to perform the transformation\n",
        "def combine_levels(columns_to_encode):\n",
        "    return columns_to_encode.replace({2: 1})\n",
        "\n",
        "# Apply the function to each categorical variable\n",
        "for columns_to_encode in v1df_wide.columns:\n",
        "    v1df_wide[columns_to_encode] = combine_levels(v1df_wide[columns_to_encode])"
      ],
      "metadata": {
        "id": "MLB7MRWp_f2K"
      },
      "execution_count": 4,
      "outputs": []
    },
    {
      "cell_type": "code",
      "source": [
        "#delete unnamed column\n",
        "v1df_wide.drop(['Unnamed: 0'], axis=1, inplace=True)"
      ],
      "metadata": {
        "id": "q0CVJtns_jte"
      },
      "execution_count": 5,
      "outputs": []
    },
    {
      "cell_type": "code",
      "source": [
        "# split dataset\n",
        "X = v1df_wide.loc[:, v1df_wide.columns != \"V1HIPI\"]\n",
        "y = v1df_wide[\"V1HIPI\"]\n",
        "\n",
        "X_train, X_test, y_train, y_test = train_test_split(X, y, test_size=0.2, random_state=21)"
      ],
      "metadata": {
        "id": "piJoaukW_lLe"
      },
      "execution_count": 8,
      "outputs": []
    },
    {
      "cell_type": "code",
      "source": [
        "#Undersampling majority class\n",
        "from imblearn.under_sampling import NearMiss\n",
        "from sklearn.model_selection import train_test_split\n",
        "\n",
        "# Initialize NearMiss\n",
        "nm = NearMiss()\n",
        "\n",
        "# Undersample the majority class\n",
        "X_train_undersampled, y_train_undersampled = nm.fit_resample(X_train, y_train)"
      ],
      "metadata": {
        "id": "D3AAWUB3_nMR"
      },
      "execution_count": 9,
      "outputs": []
    },
    {
      "cell_type": "code",
      "source": [
        "# remove height and weight due to BMI variable\n",
        "drop = ['V1WGHT', 'V1HGHT']\n",
        "X_train_undersampled = X_train_undersampled.drop(drop, axis =1)\n",
        "X_train = X_train.drop(drop, axis =1)\n",
        "X_test = X_test.drop(drop, axis =1)"
      ],
      "metadata": {
        "id": "9HPJKha-_rsw"
      },
      "execution_count": 10,
      "outputs": []
    },
    {
      "cell_type": "markdown",
      "source": [
        "## Feature Engineering"
      ],
      "metadata": {
        "id": "AzaYgoGa_tiB"
      }
    },
    {
      "cell_type": "code",
      "source": [
        "# feature reduction\n",
        "import matplotlib.pyplot as plt\n",
        "from sklearn.ensemble import RandomForestClassifier\n",
        "\n",
        "# Create a Random Forest classifier\n",
        "rf_classifier_und = RandomForestClassifier(n_estimators=100, random_state=42)\n",
        "\n",
        "# Re-Train the classifier\n",
        "rf_classifier_und.fit(X_train_undersampled, y_train_undersampled)\n",
        "\n",
        "# Get feature importances\n",
        "feature_importances = rf_classifier_und.feature_importances_\n",
        "\n",
        "# Add feature im,[rtamc]\n",
        "feature_importance_df = pd.DataFrame({'Feature': X_train_undersampled.columns, 'Importance': feature_importances})\n",
        "\n",
        "# Sort the DataFrame by importance in descending order\n",
        "feature_importance_df = feature_importance_df.sort_values(by='Importance', ascending=False)\n",
        "\n",
        "# choose top 10 variables\n",
        "top_10 = feature_importance_df[:10]\n",
        "print(top_10)\n",
        "\n",
        "# Plot the feature importances\n",
        "plt.figure(figsize=(8, 6))\n",
        "plt.barh(feature_importance_df['Feature'], feature_importance_df['Importance'], color='skyblue')\n",
        "plt.xlabel('Importance')\n",
        "plt.title('Feature Importance for Random Forest')\n",
        "plt.show()"
      ],
      "metadata": {
        "colab": {
          "base_uri": "https://localhost:8080/",
          "height": 755
        },
        "id": "RoWaUy6j_0QD",
        "outputId": "8da1c8b5-0a2a-49cb-ffe0-48634267447a"
      },
      "execution_count": 11,
      "outputs": [
        {
          "output_type": "stream",
          "name": "stdout",
          "text": [
            "     Feature  Importance\n",
            "18   V1CHRTM    0.140339\n",
            "7   V1AVDRWK    0.140311\n",
            "0      V1BMI    0.119618\n",
            "20  V1WLKSPD    0.092690\n",
            "22  V1CSNORM    0.092397\n",
            "2      V1AGE    0.091276\n",
            "1   V1SHT3MS    0.069376\n",
            "19  V1STPLGT    0.055929\n",
            "25     V1PFX    0.023830\n",
            "3     V1DOCF    0.017577\n"
          ]
        },
        {
          "output_type": "display_data",
          "data": {
            "text/plain": [
              "<Figure size 800x600 with 1 Axes>"
            ],
            "image/png": "[encoded data removed]"
          },
          "metadata": {}
        }
      ]
    },
    {
      "cell_type": "code",
      "source": [
        "# selecting top 10 variables\n",
        "\n",
        "X_train_undersampled_top = X_train_undersampled[top_10['Feature']]\n",
        "X_test_top = X_test[top_10['Feature']]"
      ],
      "metadata": {
        "id": "tHNNh1Qk__x5"
      },
      "execution_count": 12,
      "outputs": []
    },
    {
      "cell_type": "markdown",
      "source": [
        "# Implementation"
      ],
      "metadata": {
        "id": "WCNal7pnAOqX"
      }
    },
    {
      "cell_type": "markdown",
      "source": [
        "## Model 1: Logistic regression with top 10 variables"
      ],
      "metadata": {
        "id": "EMayOCREA7gr"
      }
    },
    {
      "cell_type": "code",
      "source": [
        "# Logistic regression with top 10 variables\n",
        "from sklearn.linear_model import LogisticRegression\n",
        "\n",
        "# instantiate the model (using the default parameters)\n",
        "logreg_und = LogisticRegression(random_state=16, max_iter = 5000)\n",
        "\n",
        "# fit the model with undersampled data\n",
        "logreg_und.fit(X_train_undersampled_top, y_train_undersampled)"
      ],
      "metadata": {
        "colab": {
          "base_uri": "https://localhost:8080/",
          "height": 74
        },
        "id": "338phs1BAQ12",
        "outputId": "cd83b3a8-4003-42a8-d5c2-08799680280d"
      },
      "execution_count": 13,
      "outputs": [
        {
          "output_type": "execute_result",
          "data": {
            "text/plain": [
              "LogisticRegression(max_iter=5000, random_state=16)"
            ],
            "text/html": [
              "<style>#sk-container-id-1 {color: black;background-color: white;}#sk-container-id-1 pre{padding: 0;}#sk-container-id-1 div.sk-toggleable {background-color: white;}#sk-container-id-1 label.sk-toggleable__label {cursor: pointer;display: block;width: 100%;margin-bottom: 0;padding: 0.3em;box-sizing: border-box;text-align: center;}#sk-container-id-1 label.sk-toggleable__label-arrow:before {content: \"▸\";float: left;margin-right: 0.25em;color: #696969;}#sk-container-id-1 label.sk-toggleable__label-arrow:hover:before {color: black;}#sk-container-id-1 div.sk-estimator:hover label.sk-toggleable__label-arrow:before {color: black;}#sk-container-id-1 div.sk-toggleable__content {max-height: 0;max-width: 0;overflow: hidden;text-align: left;background-color: #f0f8ff;}#sk-container-id-1 div.sk-toggleable__content pre {margin: 0.2em;color: black;border-radius: 0.25em;background-color: #f0f8ff;}#sk-container-id-1 input.sk-toggleable__control:checked~div.sk-toggleable__content {max-height: 200px;max-width: 100%;overflow: auto;}#sk-container-id-1 input.sk-toggleable__control:checked~label.sk-toggleable__label-arrow:before {content: \"▾\";}#sk-container-id-1 div.sk-estimator input.sk-toggleable__control:checked~label.sk-toggleable__label {background-color: #d4ebff;}#sk-container-id-1 div.sk-label input.sk-toggleable__control:checked~label.sk-toggleable__label {background-color: #d4ebff;}#sk-container-id-1 input.sk-hidden--visually {border: 0;clip: rect(1px 1px 1px 1px);clip: rect(1px, 1px, 1px, 1px);height: 1px;margin: -1px;overflow: hidden;padding: 0;position: absolute;width: 1px;}#sk-container-id-1 div.sk-estimator {font-family: monospace;background-color: #f0f8ff;border: 1px dotted black;border-radius: 0.25em;box-sizing: border-box;margin-bottom: 0.5em;}#sk-container-id-1 div.sk-estimator:hover {background-color: #d4ebff;}#sk-container-id-1 div.sk-parallel-item::after {content: \"\";width: 100%;border-bottom: 1px solid gray;flex-grow: 1;}#sk-container-id-1 div.sk-label:hover label.sk-toggleable__label {background-color: #d4ebff;}#sk-container-id-1 div.sk-serial::before {content: \"\";position: absolute;border-left: 1px solid gray;box-sizing: border-box;top: 0;bottom: 0;left: 50%;z-index: 0;}#sk-container-id-1 div.sk-serial {display: flex;flex-direction: column;align-items: center;background-color: white;padding-right: 0.2em;padding-left: 0.2em;position: relative;}#sk-container-id-1 div.sk-item {position: relative;z-index: 1;}#sk-container-id-1 div.sk-parallel {display: flex;align-items: stretch;justify-content: center;background-color: white;position: relative;}#sk-container-id-1 div.sk-item::before, #sk-container-id-1 div.sk-parallel-item::before {content: \"\";position: absolute;border-left: 1px solid gray;box-sizing: border-box;top: 0;bottom: 0;left: 50%;z-index: -1;}#sk-container-id-1 div.sk-parallel-item {display: flex;flex-direction: column;z-index: 1;position: relative;background-color: white;}#sk-container-id-1 div.sk-parallel-item:first-child::after {align-self: flex-end;width: 50%;}#sk-container-id-1 div.sk-parallel-item:last-child::after {align-self: flex-start;width: 50%;}#sk-container-id-1 div.sk-parallel-item:only-child::after {width: 0;}#sk-container-id-1 div.sk-dashed-wrapped {border: 1px dashed gray;margin: 0 0.4em 0.5em 0.4em;box-sizing: border-box;padding-bottom: 0.4em;background-color: white;}#sk-container-id-1 div.sk-label label {font-family: monospace;font-weight: bold;display: inline-block;line-height: 1.2em;}#sk-container-id-1 div.sk-label-container {text-align: center;}#sk-container-id-1 div.sk-container {/* jupyter's `normalize.less` sets `[hidden] { display: none; }` but bootstrap.min.css set `[hidden] { display: none !important; }` so we also need the `!important` here to be able to override the default hidden behavior on the sphinx rendered scikit-learn.org. See: https://github.com/scikit-learn/scikit-learn/issues/21755 */display: inline-block !important;position: relative;}#sk-container-id-1 div.sk-text-repr-fallback {display: none;}</style><div id=\"sk-container-id-1\" class=\"sk-top-container\"><div class=\"sk-text-repr-fallback\"><pre>LogisticRegression(max_iter=5000, random_state=16)</pre><b>In a Jupyter environment, please rerun this cell to show the HTML representation or trust the notebook. <br />On GitHub, the HTML representation is unable to render, please try loading this page with nbviewer.org.</b></div><div class=\"sk-container\" hidden><div class=\"sk-item\"><div class=\"sk-estimator sk-toggleable\"><input class=\"sk-toggleable__control sk-hidden--visually\" id=\"sk-estimator-id-1\" type=\"checkbox\" checked><label for=\"sk-estimator-id-1\" class=\"sk-toggleable__label sk-toggleable__label-arrow\">LogisticRegression</label><div class=\"sk-toggleable__content\"><pre>LogisticRegression(max_iter=5000, random_state=16)</pre></div></div></div></div></div>"
            ]
          },
          "metadata": {},
          "execution_count": 13
        }
      ]
    },
    {
      "cell_type": "markdown",
      "source": [
        "## Model 2: Random forest with top 10 variables"
      ],
      "metadata": {
        "id": "HyQMcIgRBDk5"
      }
    },
    {
      "cell_type": "code",
      "source": [
        "# Random forest with top 10 variables\n",
        "# Create a Random Forest classifier\n",
        "rf_classifier = RandomForestClassifier(n_estimators=100, random_state=42)\n",
        "# Train the classifier\n",
        "rf_classifier.fit(X_train_undersampled_top, y_train_undersampled)"
      ],
      "metadata": {
        "colab": {
          "base_uri": "https://localhost:8080/",
          "height": 74
        },
        "id": "BUMZz01CAXDF",
        "outputId": "2016010b-906e-4523-88c2-f09a892fe372"
      },
      "execution_count": 14,
      "outputs": [
        {
          "output_type": "execute_result",
          "data": {
            "text/plain": [
              "RandomForestClassifier(random_state=42)"
            ],
            "text/html": [
              "<style>#sk-container-id-2 {color: black;background-color: white;}#sk-container-id-2 pre{padding: 0;}#sk-container-id-2 div.sk-toggleable {background-color: white;}#sk-container-id-2 label.sk-toggleable__label {cursor: pointer;display: block;width: 100%;margin-bottom: 0;padding: 0.3em;box-sizing: border-box;text-align: center;}#sk-container-id-2 label.sk-toggleable__label-arrow:before {content: \"▸\";float: left;margin-right: 0.25em;color: #696969;}#sk-container-id-2 label.sk-toggleable__label-arrow:hover:before {color: black;}#sk-container-id-2 div.sk-estimator:hover label.sk-toggleable__label-arrow:before {color: black;}#sk-container-id-2 div.sk-toggleable__content {max-height: 0;max-width: 0;overflow: hidden;text-align: left;background-color: #f0f8ff;}#sk-container-id-2 div.sk-toggleable__content pre {margin: 0.2em;color: black;border-radius: 0.25em;background-color: #f0f8ff;}#sk-container-id-2 input.sk-toggleable__control:checked~div.sk-toggleable__content {max-height: 200px;max-width: 100%;overflow: auto;}#sk-container-id-2 input.sk-toggleable__control:checked~label.sk-toggleable__label-arrow:before {content: \"▾\";}#sk-container-id-2 div.sk-estimator input.sk-toggleable__control:checked~label.sk-toggleable__label {background-color: #d4ebff;}#sk-container-id-2 div.sk-label input.sk-toggleable__control:checked~label.sk-toggleable__label {background-color: #d4ebff;}#sk-container-id-2 input.sk-hidden--visually {border: 0;clip: rect(1px 1px 1px 1px);clip: rect(1px, 1px, 1px, 1px);height: 1px;margin: -1px;overflow: hidden;padding: 0;position: absolute;width: 1px;}#sk-container-id-2 div.sk-estimator {font-family: monospace;background-color: #f0f8ff;border: 1px dotted black;border-radius: 0.25em;box-sizing: border-box;margin-bottom: 0.5em;}#sk-container-id-2 div.sk-estimator:hover {background-color: #d4ebff;}#sk-container-id-2 div.sk-parallel-item::after {content: \"\";width: 100%;border-bottom: 1px solid gray;flex-grow: 1;}#sk-container-id-2 div.sk-label:hover label.sk-toggleable__label {background-color: #d4ebff;}#sk-container-id-2 div.sk-serial::before {content: \"\";position: absolute;border-left: 1px solid gray;box-sizing: border-box;top: 0;bottom: 0;left: 50%;z-index: 0;}#sk-container-id-2 div.sk-serial {display: flex;flex-direction: column;align-items: center;background-color: white;padding-right: 0.2em;padding-left: 0.2em;position: relative;}#sk-container-id-2 div.sk-item {position: relative;z-index: 1;}#sk-container-id-2 div.sk-parallel {display: flex;align-items: stretch;justify-content: center;background-color: white;position: relative;}#sk-container-id-2 div.sk-item::before, #sk-container-id-2 div.sk-parallel-item::before {content: \"\";position: absolute;border-left: 1px solid gray;box-sizing: border-box;top: 0;bottom: 0;left: 50%;z-index: -1;}#sk-container-id-2 div.sk-parallel-item {display: flex;flex-direction: column;z-index: 1;position: relative;background-color: white;}#sk-container-id-2 div.sk-parallel-item:first-child::after {align-self: flex-end;width: 50%;}#sk-container-id-2 div.sk-parallel-item:last-child::after {align-self: flex-start;width: 50%;}#sk-container-id-2 div.sk-parallel-item:only-child::after {width: 0;}#sk-container-id-2 div.sk-dashed-wrapped {border: 1px dashed gray;margin: 0 0.4em 0.5em 0.4em;box-sizing: border-box;padding-bottom: 0.4em;background-color: white;}#sk-container-id-2 div.sk-label label {font-family: monospace;font-weight: bold;display: inline-block;line-height: 1.2em;}#sk-container-id-2 div.sk-label-container {text-align: center;}#sk-container-id-2 div.sk-container {/* jupyter's `normalize.less` sets `[hidden] { display: none; }` but bootstrap.min.css set `[hidden] { display: none !important; }` so we also need the `!important` here to be able to override the default hidden behavior on the sphinx rendered scikit-learn.org. See: https://github.com/scikit-learn/scikit-learn/issues/21755 */display: inline-block !important;position: relative;}#sk-container-id-2 div.sk-text-repr-fallback {display: none;}</style><div id=\"sk-container-id-2\" class=\"sk-top-container\"><div class=\"sk-text-repr-fallback\"><pre>RandomForestClassifier(random_state=42)</pre><b>In a Jupyter environment, please rerun this cell to show the HTML representation or trust the notebook. <br />On GitHub, the HTML representation is unable to render, please try loading this page with nbviewer.org.</b></div><div class=\"sk-container\" hidden><div class=\"sk-item\"><div class=\"sk-estimator sk-toggleable\"><input class=\"sk-toggleable__control sk-hidden--visually\" id=\"sk-estimator-id-2\" type=\"checkbox\" checked><label for=\"sk-estimator-id-2\" class=\"sk-toggleable__label sk-toggleable__label-arrow\">RandomForestClassifier</label><div class=\"sk-toggleable__content\"><pre>RandomForestClassifier(random_state=42)</pre></div></div></div></div></div>"
            ]
          },
          "metadata": {},
          "execution_count": 14
        }
      ]
    },
    {
      "cell_type": "markdown",
      "source": [
        "## Model 3: Neural network with top 10 variables"
      ],
      "metadata": {
        "id": "gj-HHzvjBKGo"
      }
    },
    {
      "cell_type": "code",
      "source": [
        "# Neural Network with top 10 variables\n",
        "import tensorflow as tf\n",
        "from tensorflow.keras.models import Sequential\n",
        "from tensorflow.keras.layers import Dense\n",
        "from sklearn.model_selection import train_test_split\n",
        "from sklearn.preprocessing import StandardScaler\n",
        "from sklearn.metrics import accuracy_score\n",
        "\n",
        "# Build a simple neural network for logistic regression\n",
        "model = Sequential()\n",
        "model.add(Dense(units=64, input_dim=10, activation='relu'))\n",
        "model.add(Dense(units=32, activation='relu'))\n",
        "model.add(Dense(units=1, activation='sigmoid'))\n",
        "\n",
        "# Compile the model\n",
        "model.compile(optimizer='adam', loss='binary_crossentropy', metrics=['accuracy'])\n",
        "\n",
        "# Train the model\n",
        "model.fit(X_train_undersampled_top, y_train_undersampled, epochs=40, batch_size=1, verbose=1)"
      ],
      "metadata": {
        "colab": {
          "base_uri": "https://localhost:8080/"
        },
        "id": "e8nK-M_OAZzJ",
        "outputId": "b1e9ab5a-9843-457c-f18a-603098930019"
      },
      "execution_count": 17,
      "outputs": [
        {
          "output_type": "stream",
          "name": "stdout",
          "text": [
            "Epoch 1/40\n",
            "2264/2264 [==============================] - 6s 2ms/step - loss: 0.7659 - accuracy: 0.6343\n",
            "Epoch 2/40\n",
            "2264/2264 [==============================] - 4s 2ms/step - loss: 0.6117 - accuracy: 0.6877\n",
            "Epoch 3/40\n",
            "2264/2264 [==============================] - 5s 2ms/step - loss: 0.5734 - accuracy: 0.6930\n",
            "Epoch 4/40\n",
            "2264/2264 [==============================] - 4s 2ms/step - loss: 0.5585 - accuracy: 0.7063\n",
            "Epoch 5/40\n",
            "2264/2264 [==============================] - 3s 2ms/step - loss: 0.5431 - accuracy: 0.7116\n",
            "Epoch 6/40\n",
            "2264/2264 [==============================] - 4s 2ms/step - loss: 0.5319 - accuracy: 0.7301\n",
            "Epoch 7/40\n",
            "2264/2264 [==============================] - 5s 2ms/step - loss: 0.5286 - accuracy: 0.7284\n",
            "Epoch 8/40\n",
            "2264/2264 [==============================] - 4s 2ms/step - loss: 0.5197 - accuracy: 0.7332\n",
            "Epoch 9/40\n",
            "2264/2264 [==============================] - 4s 2ms/step - loss: 0.5142 - accuracy: 0.7390\n",
            "Epoch 10/40\n",
            "2264/2264 [==============================] - 4s 2ms/step - loss: 0.5154 - accuracy: 0.7367\n",
            "Epoch 11/40\n",
            "2264/2264 [==============================] - 4s 2ms/step - loss: 0.5092 - accuracy: 0.7310\n",
            "Epoch 12/40\n",
            "2264/2264 [==============================] - 4s 2ms/step - loss: 0.5174 - accuracy: 0.7482\n",
            "Epoch 13/40\n",
            "2264/2264 [==============================] - 5s 2ms/step - loss: 0.5108 - accuracy: 0.7434\n",
            "Epoch 14/40\n",
            "2264/2264 [==============================] - 4s 2ms/step - loss: 0.5091 - accuracy: 0.7478\n",
            "Epoch 15/40\n",
            "2264/2264 [==============================] - 4s 2ms/step - loss: 0.5032 - accuracy: 0.7429\n",
            "Epoch 16/40\n",
            "2264/2264 [==============================] - 4s 2ms/step - loss: 0.5081 - accuracy: 0.7412\n",
            "Epoch 17/40\n",
            "2264/2264 [==============================] - 5s 2ms/step - loss: 0.5034 - accuracy: 0.7491\n",
            "Epoch 18/40\n",
            "2264/2264 [==============================] - 4s 2ms/step - loss: 0.5112 - accuracy: 0.7403\n",
            "Epoch 19/40\n",
            "2264/2264 [==============================] - 3s 2ms/step - loss: 0.5011 - accuracy: 0.7518\n",
            "Epoch 20/40\n",
            "2264/2264 [==============================] - 4s 2ms/step - loss: 0.5076 - accuracy: 0.7447\n",
            "Epoch 21/40\n",
            "2264/2264 [==============================] - 5s 2ms/step - loss: 0.4976 - accuracy: 0.7535\n",
            "Epoch 22/40\n",
            "2264/2264 [==============================] - 4s 2ms/step - loss: 0.5052 - accuracy: 0.7367\n",
            "Epoch 23/40\n",
            "2264/2264 [==============================] - 3s 2ms/step - loss: 0.5022 - accuracy: 0.7443\n",
            "Epoch 24/40\n",
            "2264/2264 [==============================] - 5s 2ms/step - loss: 0.4991 - accuracy: 0.7482\n",
            "Epoch 25/40\n",
            "2264/2264 [==============================] - 4s 2ms/step - loss: 0.4959 - accuracy: 0.7540\n",
            "Epoch 26/40\n",
            "2264/2264 [==============================] - 3s 2ms/step - loss: 0.4976 - accuracy: 0.7540\n",
            "Epoch 27/40\n",
            "2264/2264 [==============================] - 4s 2ms/step - loss: 0.4994 - accuracy: 0.7478\n",
            "Epoch 28/40\n",
            "2264/2264 [==============================] - 5s 2ms/step - loss: 0.5015 - accuracy: 0.7509\n",
            "Epoch 29/40\n",
            "2264/2264 [==============================] - 4s 2ms/step - loss: 0.4987 - accuracy: 0.7527\n",
            "Epoch 30/40\n",
            "2264/2264 [==============================] - 4s 2ms/step - loss: 0.5034 - accuracy: 0.7504\n",
            "Epoch 31/40\n",
            "2264/2264 [==============================] - 4s 2ms/step - loss: 0.4962 - accuracy: 0.7504\n",
            "Epoch 32/40\n",
            "2264/2264 [==============================] - 4s 2ms/step - loss: 0.4937 - accuracy: 0.7531\n",
            "Epoch 33/40\n",
            "2264/2264 [==============================] - 4s 2ms/step - loss: 0.5000 - accuracy: 0.7478\n",
            "Epoch 34/40\n",
            "2264/2264 [==============================] - 3s 2ms/step - loss: 0.4979 - accuracy: 0.7482\n",
            "Epoch 35/40\n",
            "2264/2264 [==============================] - 5s 2ms/step - loss: 0.4915 - accuracy: 0.7628\n",
            "Epoch 36/40\n",
            "2264/2264 [==============================] - 4s 2ms/step - loss: 0.4914 - accuracy: 0.7496\n",
            "Epoch 37/40\n",
            "2264/2264 [==============================] - 4s 2ms/step - loss: 0.4952 - accuracy: 0.7456\n",
            "Epoch 38/40\n",
            "2264/2264 [==============================] - 4s 2ms/step - loss: 0.5024 - accuracy: 0.7504\n",
            "Epoch 39/40\n",
            "2264/2264 [==============================] - 5s 2ms/step - loss: 0.4943 - accuracy: 0.7469\n",
            "Epoch 40/40\n",
            "2264/2264 [==============================] - 4s 2ms/step - loss: 0.4995 - accuracy: 0.7557\n"
          ]
        },
        {
          "output_type": "execute_result",
          "data": {
            "text/plain": [
              "<keras.src.callbacks.History at 0x7f732d522cb0>"
            ]
          },
          "metadata": {},
          "execution_count": 17
        }
      ]
    },
    {
      "cell_type": "markdown",
      "source": [
        "# Evaluation Metrics"
      ],
      "metadata": {
        "id": "SjHBARWlBUqX"
      }
    },
    {
      "cell_type": "markdown",
      "source": [
        "To evaluate our models, we use three metrics:\n",
        "\n",
        "1. Accuracy\n",
        "2. Sensitivity\n",
        "3. Specificity"
      ],
      "metadata": {
        "id": "q6iAoBabBcOl"
      }
    },
    {
      "cell_type": "markdown",
      "source": [
        "## Model 1: Logistic regression with top 10 variables"
      ],
      "metadata": {
        "id": "jjuUe8mWBqFs"
      }
    },
    {
      "cell_type": "code",
      "source": [
        "y_pred_und = logreg_und.predict(X_test_top)\n",
        "# Evaluate accuracy\n",
        "model1_accuracy = accuracy_score(y_test, y_pred_und)\n",
        "print(f\"Model 1 Accuracy: {model1_accuracy}\")"
      ],
      "metadata": {
        "colab": {
          "base_uri": "https://localhost:8080/"
        },
        "id": "_78xTt8ZBtcQ",
        "outputId": "2186a62c-8c46-43d3-b292-65b9a0251c52"
      },
      "execution_count": 18,
      "outputs": [
        {
          "output_type": "stream",
          "name": "stdout",
          "text": [
            "Model 1 Accuracy: 0.4767321613236815\n"
          ]
        }
      ]
    },
    {
      "cell_type": "code",
      "source": [
        "# confusion matrix - model 1\n",
        "# import the metrics class\n",
        "from sklearn import metrics\n",
        "cnf_matrix_model1 = metrics.confusion_matrix(y_test, y_pred_und)\n",
        "# create heatmap\n",
        "import matplotlib.pyplot as plt\n",
        "import seaborn as sns\n",
        "sns.heatmap(pd.DataFrame(cnf_matrix_model1), annot=True, cmap=\"YlGnBu\" ,fmt='g')\n",
        "plt.tight_layout()\n",
        "plt.title('Confusion matrix - Model 1', y=1.1)\n",
        "plt.ylabel('Actual label')\n",
        "plt.xlabel('Predicted label')\n",
        "plt.show()"
      ],
      "metadata": {
        "colab": {
          "base_uri": "https://localhost:8080/",
          "height": 570
        },
        "id": "IO6ORXYcB7uI",
        "outputId": "e7c6e67a-f1d9-4757-c614-ee26d0484a3d"
      },
      "execution_count": 19,
      "outputs": [
        {
          "output_type": "display_data",
          "data": {
            "text/plain": [
              "<Figure size 640x480 with 2 Axes>"
            ],
            "image/png": "[encoded data removed]"
          },
          "metadata": {}
        }
      ]
    },
    {
      "cell_type": "code",
      "source": [
        "specificity1 = cnf_matrix_model1[0,0]/(cnf_matrix_model1[0,0]+cnf_matrix_model1[0,1])\n",
        "print('Model 1 Specificity : ', specificity1 )\n",
        "\n",
        "sensitivity1 = cnf_matrix_model1[1,1]/(cnf_matrix_model1[1,0]+cnf_matrix_model1[1,1])\n",
        "print('Model 1 Sensitivity : ', sensitivity1)"
      ],
      "metadata": {
        "colab": {
          "base_uri": "https://localhost:8080/"
        },
        "id": "4nIWN-VbCSn1",
        "outputId": "35ec34df-0ac2-4243-d773-00ce966caccc"
      },
      "execution_count": 20,
      "outputs": [
        {
          "output_type": "stream",
          "name": "stdout",
          "text": [
            "Model 1 Specificity :  0.4474802671523983\n",
            "Model 1 Sensitivity :  0.6445993031358885\n"
          ]
        }
      ]
    },
    {
      "cell_type": "markdown",
      "source": [
        "## Model 2: Random forest with top 10 variables"
      ],
      "metadata": {
        "id": "l6DGXKcnCpQd"
      }
    },
    {
      "cell_type": "code",
      "source": [
        "# Make predictions on the test set\n",
        "rf_pred = rf_classifier.predict(X_test_top)\n",
        "# Evaluate accuracy\n",
        "RF_accuracy = accuracy_score(y_test, rf_pred)\n",
        "print(f\"Model 2 Accuracy: {RF_accuracy}\")"
      ],
      "metadata": {
        "colab": {
          "base_uri": "https://localhost:8080/"
        },
        "id": "d-3ConYrCr5P",
        "outputId": "e9331dea-a97b-48e0-88fd-6474660e7f32"
      },
      "execution_count": 21,
      "outputs": [
        {
          "output_type": "stream",
          "name": "stdout",
          "text": [
            "Model 2 Accuracy: 0.4027921406411582\n"
          ]
        }
      ]
    },
    {
      "cell_type": "code",
      "source": [
        "# confusion matrix - model 2\n",
        "cnf_matrix_model2 = metrics.confusion_matrix(y_test, rf_pred)\n",
        "# create heatmap\n",
        "import matplotlib.pyplot as plt\n",
        "import seaborn as sns\n",
        "sns.heatmap(pd.DataFrame(cnf_matrix_model2), annot=True, cmap=\"YlGnBu\" ,fmt='g')\n",
        "plt.tight_layout()\n",
        "plt.title('Confusion matrix - Model 2', y=1.1)\n",
        "plt.ylabel('Actual label')\n",
        "plt.xlabel('Predicted label')\n",
        "plt.show()"
      ],
      "metadata": {
        "colab": {
          "base_uri": "https://localhost:8080/",
          "height": 571
        },
        "id": "jS_nK-zHDE3O",
        "outputId": "aabbfe3c-84b9-4540-b2fe-05351c8d94da"
      },
      "execution_count": 22,
      "outputs": [
        {
          "output_type": "display_data",
          "data": {
            "text/plain": [
              "<Figure size 640x480 with 2 Axes>"
            ],
            "image/png": "[encoded data removed]"
          },
          "metadata": {}
        }
      ]
    },
    {
      "cell_type": "code",
      "source": [
        "specificity2 = cnf_matrix_model2[0,0]/(cnf_matrix_model2[0,0]+cnf_matrix_model2[0,1])\n",
        "print('Model 2 Specificity : ', specificity2 )\n",
        "\n",
        "sensitivity2 = cnf_matrix_model2[1,1]/(cnf_matrix_model2[1,0]+cnf_matrix_model2[1,1])\n",
        "print('Model 2 Sensitivity : ', sensitivity2)"
      ],
      "metadata": {
        "colab": {
          "base_uri": "https://localhost:8080/"
        },
        "id": "MAb-LerHDNOx",
        "outputId": "0c210aa8-0ca3-45d9-a88b-a031dbbe5352"
      },
      "execution_count": 23,
      "outputs": [
        {
          "output_type": "stream",
          "name": "stdout",
          "text": [
            "Model 2 Specificity :  0.3521554341226472\n",
            "Model 2 Sensitivity :  0.6933797909407665\n"
          ]
        }
      ]
    },
    {
      "cell_type": "markdown",
      "source": [
        "## Model 3: Neural network with top 10 variables"
      ],
      "metadata": {
        "id": "Oy2bk1pWDhcf"
      }
    },
    {
      "cell_type": "code",
      "source": [
        "# Make predictions on the test set\n",
        "y_pred_prob_NN = model.predict(X_test_top)\n",
        "y_pred_NN = (y_pred_prob_NN > 0.5).astype(int)\n",
        "\n",
        "# Evaluate accuracy\n",
        "NN_accuracy = accuracy_score(y_test, y_pred_NN)\n",
        "print(f\"Model 3 Accuracy: {NN_accuracy}\")"
      ],
      "metadata": {
        "colab": {
          "base_uri": "https://localhost:8080/"
        },
        "id": "4hvgJyCYDnJu",
        "outputId": "ca4f542c-9541-44b7-980c-6dc6e874f4b6"
      },
      "execution_count": 24,
      "outputs": [
        {
          "output_type": "stream",
          "name": "stdout",
          "text": [
            "61/61 [==============================] - 0s 1ms/step\n",
            "Model 3 Accuracy: 0.3893485005170631\n"
          ]
        }
      ]
    },
    {
      "cell_type": "code",
      "source": [
        "# confusion matrix - model 3\n",
        "cnf_matrix_model3 = metrics.confusion_matrix(y_test, y_pred_NN)\n",
        "# create heatmap\n",
        "import matplotlib.pyplot as plt\n",
        "import seaborn as sns\n",
        "sns.heatmap(pd.DataFrame(cnf_matrix_model3), annot=True, cmap=\"YlGnBu\" ,fmt='g')\n",
        "plt.tight_layout()\n",
        "plt.title('Confusion matrix - Model 3', y=1.1)\n",
        "plt.ylabel('Actual label')\n",
        "plt.xlabel('Predicted label')\n",
        "plt.show()"
      ],
      "metadata": {
        "colab": {
          "base_uri": "https://localhost:8080/",
          "height": 571
        },
        "id": "vxKsy33wDyDf",
        "outputId": "5d2c370a-89d0-471e-9365-b04ba5afeeb4"
      },
      "execution_count": 25,
      "outputs": [
        {
          "output_type": "display_data",
          "data": {
            "text/plain": [
              "<Figure size 640x480 with 2 Axes>"
            ],
            "image/png": "[encoded data removed]"
          },
          "metadata": {}
        }
      ]
    },
    {
      "cell_type": "code",
      "source": [
        "specificity3 = cnf_matrix_model3[0,0]/(cnf_matrix_model3[0,0]+cnf_matrix_model3[0,1])\n",
        "print('Model 3 Specificity : ', specificity3)\n",
        "\n",
        "sensitivity3 = cnf_matrix_model3[1,1]/(cnf_matrix_model3[1,0]+cnf_matrix_model3[1,1])\n",
        "print('Model 3 Sensitivity : ', sensitivity3)"
      ],
      "metadata": {
        "colab": {
          "base_uri": "https://localhost:8080/"
        },
        "id": "sJTsdLOlD_6h",
        "outputId": "30acf639-6649-4f67-e35e-86552833d48a"
      },
      "execution_count": 26,
      "outputs": [
        {
          "output_type": "stream",
          "name": "stdout",
          "text": [
            "Model 3 Specificity :  0.33515482695810567\n",
            "Model 3 Sensitivity :  0.7003484320557491\n"
          ]
        }
      ]
    },
    {
      "cell_type": "markdown",
      "source": [
        "# Comparative Analysis"
      ],
      "metadata": {
        "id": "LoyT45N5EI-i"
      }
    },
    {
      "cell_type": "markdown",
      "source": [
        "Evaluation metrics table"
      ],
      "metadata": {
        "id": "abvEyeE9GX5x"
      }
    },
    {
      "cell_type": "markdown",
      "source": [
        "| Model | Model Specification | Accuracy | Specificity | Sensitivity |\n",
        "| :- | :- | :-: | :-: | :-: |\n",
        "| Baseline Model 1 | Logistic Regression, unsampled | 0.85 | 1.00 | 0.00 |\n",
        "| Baseline Model 2 | Logistic Regression, undersampled | 0.46 | 0.43 | 0.63 |\n",
        "| Model 1 | Logistic Regression, undersampled, top 10 | 0.48 | 0.45 | 0.64 |\n",
        "| Model 2 | Random Forest, undersampled, top 10 | 0.40 | 0.35 | 0.69 |\n",
        "| Model 3 | Neural Network, undersampled, top 10 | 0.39 | 0.34 | 0.70 |"
      ],
      "metadata": {
        "id": "4e3x6dWtGvwQ"
      }
    },
    {
      "cell_type": "markdown",
      "source": [
        "As can be seen, the different models and variable selection technique do not help to improve the metrics. All metrics are bad and not sufficient for any reliable classification."
      ],
      "metadata": {
        "id": "MyZ76Tb7I2E4"
      }
    }
  ]
}